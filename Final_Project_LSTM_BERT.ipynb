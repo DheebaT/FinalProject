{
  "nbformat": 4,
  "nbformat_minor": 0,
  "metadata": {
    "colab": {
      "provenance": [],
      "gpuType": "T4"
    },
    "kernelspec": {
      "name": "python3",
      "display_name": "Python 3"
    },
    "language_info": {
      "name": "python"
    },
    "accelerator": "GPU"
  },
  "cells": [
    {
      "cell_type": "markdown",
      "source": [
        "INSTALLING PACKAGES"
      ],
      "metadata": {
        "id": "-crawSHv20nG"
      }
    },
    {
      "cell_type": "code",
      "execution_count": null,
      "metadata": {
        "colab": {
          "base_uri": "https://localhost:8080/"
        },
        "id": "FR4_MnvIFClD",
        "outputId": "de3316ac-ef38-4f44-eb3b-d84d526377a3"
      },
      "outputs": [
        {
          "output_type": "stream",
          "name": "stdout",
          "text": [
            "Requirement already satisfied: transformers in /usr/local/lib/python3.10/dist-packages (4.42.4)\n",
            "Requirement already satisfied: filelock in /usr/local/lib/python3.10/dist-packages (from transformers) (3.15.4)\n",
            "Requirement already satisfied: huggingface-hub<1.0,>=0.23.2 in /usr/local/lib/python3.10/dist-packages (from transformers) (0.23.5)\n",
            "Requirement already satisfied: numpy<2.0,>=1.17 in /usr/local/lib/python3.10/dist-packages (from transformers) (1.26.4)\n",
            "Requirement already satisfied: packaging>=20.0 in /usr/local/lib/python3.10/dist-packages (from transformers) (24.1)\n",
            "Requirement already satisfied: pyyaml>=5.1 in /usr/local/lib/python3.10/dist-packages (from transformers) (6.0.2)\n",
            "Requirement already satisfied: regex!=2019.12.17 in /usr/local/lib/python3.10/dist-packages (from transformers) (2024.5.15)\n",
            "Requirement already satisfied: requests in /usr/local/lib/python3.10/dist-packages (from transformers) (2.32.3)\n",
            "Requirement already satisfied: safetensors>=0.4.1 in /usr/local/lib/python3.10/dist-packages (from transformers) (0.4.4)\n",
            "Requirement already satisfied: tokenizers<0.20,>=0.19 in /usr/local/lib/python3.10/dist-packages (from transformers) (0.19.1)\n",
            "Requirement already satisfied: tqdm>=4.27 in /usr/local/lib/python3.10/dist-packages (from transformers) (4.66.5)\n",
            "Requirement already satisfied: fsspec>=2023.5.0 in /usr/local/lib/python3.10/dist-packages (from huggingface-hub<1.0,>=0.23.2->transformers) (2024.6.1)\n",
            "Requirement already satisfied: typing-extensions>=3.7.4.3 in /usr/local/lib/python3.10/dist-packages (from huggingface-hub<1.0,>=0.23.2->transformers) (4.12.2)\n",
            "Requirement already satisfied: charset-normalizer<4,>=2 in /usr/local/lib/python3.10/dist-packages (from requests->transformers) (3.3.2)\n",
            "Requirement already satisfied: idna<4,>=2.5 in /usr/local/lib/python3.10/dist-packages (from requests->transformers) (3.7)\n",
            "Requirement already satisfied: urllib3<3,>=1.21.1 in /usr/local/lib/python3.10/dist-packages (from requests->transformers) (2.0.7)\n",
            "Requirement already satisfied: certifi>=2017.4.17 in /usr/local/lib/python3.10/dist-packages (from requests->transformers) (2024.7.4)\n",
            "Collecting fitz\n",
            "  Downloading fitz-0.0.1.dev2-py2.py3-none-any.whl.metadata (816 bytes)\n",
            "Collecting configobj (from fitz)\n",
            "  Downloading configobj-5.0.8-py2.py3-none-any.whl.metadata (3.4 kB)\n",
            "Collecting configparser (from fitz)\n",
            "  Downloading configparser-7.1.0-py3-none-any.whl.metadata (5.4 kB)\n",
            "Requirement already satisfied: httplib2 in /usr/local/lib/python3.10/dist-packages (from fitz) (0.22.0)\n",
            "Requirement already satisfied: nibabel in /usr/local/lib/python3.10/dist-packages (from fitz) (5.0.1)\n",
            "Collecting nipype (from fitz)\n",
            "  Downloading nipype-1.8.6-py3-none-any.whl.metadata (6.6 kB)\n",
            "Requirement already satisfied: numpy in /usr/local/lib/python3.10/dist-packages (from fitz) (1.26.4)\n",
            "Requirement already satisfied: pandas in /usr/local/lib/python3.10/dist-packages (from fitz) (2.1.4)\n",
            "Collecting pyxnat (from fitz)\n",
            "  Downloading pyxnat-1.6.2-py3-none-any.whl.metadata (5.3 kB)\n",
            "Requirement already satisfied: scipy in /usr/local/lib/python3.10/dist-packages (from fitz) (1.13.1)\n",
            "Requirement already satisfied: six in /usr/local/lib/python3.10/dist-packages (from configobj->fitz) (1.16.0)\n",
            "Requirement already satisfied: pyparsing!=3.0.0,!=3.0.1,!=3.0.2,!=3.0.3,<4,>=2.4.2 in /usr/local/lib/python3.10/dist-packages (from httplib2->fitz) (3.1.2)\n",
            "Requirement already satisfied: packaging>=17 in /usr/local/lib/python3.10/dist-packages (from nibabel->fitz) (24.1)\n",
            "Requirement already satisfied: setuptools in /usr/local/lib/python3.10/dist-packages (from nibabel->fitz) (71.0.4)\n",
            "Requirement already satisfied: click>=6.6.0 in /usr/local/lib/python3.10/dist-packages (from nipype->fitz) (8.1.7)\n",
            "Requirement already satisfied: networkx>=2.0 in /usr/local/lib/python3.10/dist-packages (from nipype->fitz) (3.3)\n",
            "Collecting prov>=1.5.2 (from nipype->fitz)\n",
            "  Downloading prov-2.0.1-py3-none-any.whl.metadata (3.6 kB)\n",
            "Requirement already satisfied: pydot>=1.2.3 in /usr/local/lib/python3.10/dist-packages (from nipype->fitz) (1.4.2)\n",
            "Requirement already satisfied: python-dateutil>=2.2 in /usr/local/lib/python3.10/dist-packages (from nipype->fitz) (2.8.2)\n",
            "Collecting rdflib>=5.0.0 (from nipype->fitz)\n",
            "  Downloading rdflib-7.0.0-py3-none-any.whl.metadata (11 kB)\n",
            "Collecting simplejson>=3.8.0 (from nipype->fitz)\n",
            "  Downloading simplejson-3.19.3-cp310-cp310-manylinux_2_5_x86_64.manylinux1_x86_64.manylinux_2_17_x86_64.manylinux2014_x86_64.whl.metadata (3.2 kB)\n",
            "Collecting traits!=5.0,<6.4,>=4.6 (from nipype->fitz)\n",
            "  Downloading traits-6.3.2-cp310-cp310-manylinux_2_5_x86_64.manylinux1_x86_64.manylinux_2_12_x86_64.manylinux2010_x86_64.whl.metadata (4.9 kB)\n",
            "Requirement already satisfied: filelock>=3.0.0 in /usr/local/lib/python3.10/dist-packages (from nipype->fitz) (3.15.4)\n",
            "Collecting etelemetry>=0.2.0 (from nipype->fitz)\n",
            "  Downloading etelemetry-0.3.1-py3-none-any.whl.metadata (3.2 kB)\n",
            "Collecting looseversion (from nipype->fitz)\n",
            "  Downloading looseversion-1.3.0-py2.py3-none-any.whl.metadata (4.6 kB)\n",
            "Requirement already satisfied: pytz>=2020.1 in /usr/local/lib/python3.10/dist-packages (from pandas->fitz) (2024.1)\n",
            "Requirement already satisfied: tzdata>=2022.1 in /usr/local/lib/python3.10/dist-packages (from pandas->fitz) (2024.1)\n",
            "Requirement already satisfied: lxml>=4.3 in /usr/local/lib/python3.10/dist-packages (from pyxnat->fitz) (4.9.4)\n",
            "Requirement already satisfied: requests>=2.20 in /usr/local/lib/python3.10/dist-packages (from pyxnat->fitz) (2.32.3)\n",
            "Requirement already satisfied: pathlib>=1.0 in /usr/local/lib/python3.10/dist-packages (from pyxnat->fitz) (1.0.1)\n",
            "Collecting ci-info>=0.2 (from etelemetry>=0.2.0->nipype->fitz)\n",
            "  Downloading ci_info-0.3.0-py3-none-any.whl.metadata (6.1 kB)\n",
            "Collecting rdflib>=5.0.0 (from nipype->fitz)\n",
            "  Downloading rdflib-6.3.2-py3-none-any.whl.metadata (11 kB)\n",
            "Collecting isodate<0.7.0,>=0.6.0 (from rdflib>=5.0.0->nipype->fitz)\n",
            "  Downloading isodate-0.6.1-py2.py3-none-any.whl.metadata (9.6 kB)\n",
            "Requirement already satisfied: charset-normalizer<4,>=2 in /usr/local/lib/python3.10/dist-packages (from requests>=2.20->pyxnat->fitz) (3.3.2)\n",
            "Requirement already satisfied: idna<4,>=2.5 in /usr/local/lib/python3.10/dist-packages (from requests>=2.20->pyxnat->fitz) (3.7)\n",
            "Requirement already satisfied: urllib3<3,>=1.21.1 in /usr/local/lib/python3.10/dist-packages (from requests>=2.20->pyxnat->fitz) (2.0.7)\n",
            "Requirement already satisfied: certifi>=2017.4.17 in /usr/local/lib/python3.10/dist-packages (from requests>=2.20->pyxnat->fitz) (2024.7.4)\n",
            "Downloading fitz-0.0.1.dev2-py2.py3-none-any.whl (20 kB)\n",
            "Downloading configobj-5.0.8-py2.py3-none-any.whl (36 kB)\n",
            "Downloading configparser-7.1.0-py3-none-any.whl (17 kB)\n",
            "Downloading nipype-1.8.6-py3-none-any.whl (3.2 MB)\n",
            "\u001b[2K   \u001b[90m━━━━━━━━━━━━━━━━━━━━━━━━━━━━━━━━━━━━━━━━\u001b[0m \u001b[32m3.2/3.2 MB\u001b[0m \u001b[31m41.9 MB/s\u001b[0m eta \u001b[36m0:00:00\u001b[0m\n",
            "\u001b[?25hDownloading pyxnat-1.6.2-py3-none-any.whl (95 kB)\n",
            "\u001b[2K   \u001b[90m━━━━━━━━━━━━━━━━━━━━━━━━━━━━━━━━━━━━━━━━\u001b[0m \u001b[32m95.6/95.6 kB\u001b[0m \u001b[31m6.5 MB/s\u001b[0m eta \u001b[36m0:00:00\u001b[0m\n",
            "\u001b[?25hDownloading etelemetry-0.3.1-py3-none-any.whl (6.4 kB)\n",
            "Downloading prov-2.0.1-py3-none-any.whl (421 kB)\n",
            "\u001b[2K   \u001b[90m━━━━━━━━━━━━━━━━━━━━━━━━━━━━━━━━━━━━━━━━\u001b[0m \u001b[32m421.5/421.5 kB\u001b[0m \u001b[31m24.8 MB/s\u001b[0m eta \u001b[36m0:00:00\u001b[0m\n",
            "\u001b[?25hDownloading rdflib-6.3.2-py3-none-any.whl (528 kB)\n",
            "\u001b[2K   \u001b[90m━━━━━━━━━━━━━━━━━━━━━━━━━━━━━━━━━━━━━━━━\u001b[0m \u001b[32m528.1/528.1 kB\u001b[0m \u001b[31m24.0 MB/s\u001b[0m eta \u001b[36m0:00:00\u001b[0m\n",
            "\u001b[?25hDownloading simplejson-3.19.3-cp310-cp310-manylinux_2_5_x86_64.manylinux1_x86_64.manylinux_2_17_x86_64.manylinux2014_x86_64.whl (137 kB)\n",
            "\u001b[2K   \u001b[90m━━━━━━━━━━━━━━━━━━━━━━━━━━━━━━━━━━━━━━━━\u001b[0m \u001b[32m137.9/137.9 kB\u001b[0m \u001b[31m10.2 MB/s\u001b[0m eta \u001b[36m0:00:00\u001b[0m\n",
            "\u001b[?25hDownloading traits-6.3.2-cp310-cp310-manylinux_2_5_x86_64.manylinux1_x86_64.manylinux_2_12_x86_64.manylinux2010_x86_64.whl (5.1 MB)\n",
            "\u001b[2K   \u001b[90m━━━━━━━━━━━━━━━━━━━━━━━━━━━━━━━━━━━━━━━━\u001b[0m \u001b[32m5.1/5.1 MB\u001b[0m \u001b[31m60.5 MB/s\u001b[0m eta \u001b[36m0:00:00\u001b[0m\n",
            "\u001b[?25hDownloading looseversion-1.3.0-py2.py3-none-any.whl (8.2 kB)\n",
            "Downloading ci_info-0.3.0-py3-none-any.whl (7.8 kB)\n",
            "Downloading isodate-0.6.1-py2.py3-none-any.whl (41 kB)\n",
            "\u001b[2K   \u001b[90m━━━━━━━━━━━━━━━━━━━━━━━━━━━━━━━━━━━━━━━━\u001b[0m \u001b[32m41.7/41.7 kB\u001b[0m \u001b[31m2.8 MB/s\u001b[0m eta \u001b[36m0:00:00\u001b[0m\n",
            "\u001b[?25hInstalling collected packages: looseversion, traits, simplejson, isodate, configparser, configobj, ci-info, rdflib, pyxnat, etelemetry, prov, nipype, fitz\n",
            "Successfully installed ci-info-0.3.0 configobj-5.0.8 configparser-7.1.0 etelemetry-0.3.1 fitz-0.0.1.dev2 isodate-0.6.1 looseversion-1.3.0 nipype-1.8.6 prov-2.0.1 pyxnat-1.6.2 rdflib-6.3.2 simplejson-3.19.3 traits-6.3.2\n",
            "Requirement already satisfied: spacy in /usr/local/lib/python3.10/dist-packages (3.7.6)\n",
            "Requirement already satisfied: spacy-legacy<3.1.0,>=3.0.11 in /usr/local/lib/python3.10/dist-packages (from spacy) (3.0.12)\n",
            "Requirement already satisfied: spacy-loggers<2.0.0,>=1.0.0 in /usr/local/lib/python3.10/dist-packages (from spacy) (1.0.5)\n",
            "Requirement already satisfied: murmurhash<1.1.0,>=0.28.0 in /usr/local/lib/python3.10/dist-packages (from spacy) (1.0.10)\n",
            "Requirement already satisfied: cymem<2.1.0,>=2.0.2 in /usr/local/lib/python3.10/dist-packages (from spacy) (2.0.8)\n",
            "Requirement already satisfied: preshed<3.1.0,>=3.0.2 in /usr/local/lib/python3.10/dist-packages (from spacy) (3.0.9)\n",
            "Requirement already satisfied: thinc<8.3.0,>=8.2.2 in /usr/local/lib/python3.10/dist-packages (from spacy) (8.2.5)\n",
            "Requirement already satisfied: wasabi<1.2.0,>=0.9.1 in /usr/local/lib/python3.10/dist-packages (from spacy) (1.1.3)\n",
            "Requirement already satisfied: srsly<3.0.0,>=2.4.3 in /usr/local/lib/python3.10/dist-packages (from spacy) (2.4.8)\n",
            "Requirement already satisfied: catalogue<2.1.0,>=2.0.6 in /usr/local/lib/python3.10/dist-packages (from spacy) (2.0.10)\n",
            "Requirement already satisfied: weasel<0.5.0,>=0.1.0 in /usr/local/lib/python3.10/dist-packages (from spacy) (0.4.1)\n",
            "Requirement already satisfied: typer<1.0.0,>=0.3.0 in /usr/local/lib/python3.10/dist-packages (from spacy) (0.12.4)\n",
            "Requirement already satisfied: tqdm<5.0.0,>=4.38.0 in /usr/local/lib/python3.10/dist-packages (from spacy) (4.66.5)\n",
            "Requirement already satisfied: requests<3.0.0,>=2.13.0 in /usr/local/lib/python3.10/dist-packages (from spacy) (2.32.3)\n",
            "Requirement already satisfied: pydantic!=1.8,!=1.8.1,<3.0.0,>=1.7.4 in /usr/local/lib/python3.10/dist-packages (from spacy) (2.8.2)\n",
            "Requirement already satisfied: jinja2 in /usr/local/lib/python3.10/dist-packages (from spacy) (3.1.4)\n",
            "Requirement already satisfied: setuptools in /usr/local/lib/python3.10/dist-packages (from spacy) (71.0.4)\n",
            "Requirement already satisfied: packaging>=20.0 in /usr/local/lib/python3.10/dist-packages (from spacy) (24.1)\n",
            "Requirement already satisfied: langcodes<4.0.0,>=3.2.0 in /usr/local/lib/python3.10/dist-packages (from spacy) (3.4.0)\n",
            "Requirement already satisfied: numpy>=1.19.0 in /usr/local/lib/python3.10/dist-packages (from spacy) (1.26.4)\n",
            "Requirement already satisfied: language-data>=1.2 in /usr/local/lib/python3.10/dist-packages (from langcodes<4.0.0,>=3.2.0->spacy) (1.2.0)\n",
            "Requirement already satisfied: annotated-types>=0.4.0 in /usr/local/lib/python3.10/dist-packages (from pydantic!=1.8,!=1.8.1,<3.0.0,>=1.7.4->spacy) (0.7.0)\n",
            "Requirement already satisfied: pydantic-core==2.20.1 in /usr/local/lib/python3.10/dist-packages (from pydantic!=1.8,!=1.8.1,<3.0.0,>=1.7.4->spacy) (2.20.1)\n",
            "Requirement already satisfied: typing-extensions>=4.6.1 in /usr/local/lib/python3.10/dist-packages (from pydantic!=1.8,!=1.8.1,<3.0.0,>=1.7.4->spacy) (4.12.2)\n",
            "Requirement already satisfied: charset-normalizer<4,>=2 in /usr/local/lib/python3.10/dist-packages (from requests<3.0.0,>=2.13.0->spacy) (3.3.2)\n",
            "Requirement already satisfied: idna<4,>=2.5 in /usr/local/lib/python3.10/dist-packages (from requests<3.0.0,>=2.13.0->spacy) (3.7)\n",
            "Requirement already satisfied: urllib3<3,>=1.21.1 in /usr/local/lib/python3.10/dist-packages (from requests<3.0.0,>=2.13.0->spacy) (2.0.7)\n",
            "Requirement already satisfied: certifi>=2017.4.17 in /usr/local/lib/python3.10/dist-packages (from requests<3.0.0,>=2.13.0->spacy) (2024.7.4)\n",
            "Requirement already satisfied: blis<0.8.0,>=0.7.8 in /usr/local/lib/python3.10/dist-packages (from thinc<8.3.0,>=8.2.2->spacy) (0.7.11)\n",
            "Requirement already satisfied: confection<1.0.0,>=0.0.1 in /usr/local/lib/python3.10/dist-packages (from thinc<8.3.0,>=8.2.2->spacy) (0.1.5)\n",
            "Requirement already satisfied: click>=8.0.0 in /usr/local/lib/python3.10/dist-packages (from typer<1.0.0,>=0.3.0->spacy) (8.1.7)\n",
            "Requirement already satisfied: shellingham>=1.3.0 in /usr/local/lib/python3.10/dist-packages (from typer<1.0.0,>=0.3.0->spacy) (1.5.4)\n",
            "Requirement already satisfied: rich>=10.11.0 in /usr/local/lib/python3.10/dist-packages (from typer<1.0.0,>=0.3.0->spacy) (13.7.1)\n",
            "Requirement already satisfied: cloudpathlib<1.0.0,>=0.7.0 in /usr/local/lib/python3.10/dist-packages (from weasel<0.5.0,>=0.1.0->spacy) (0.18.1)\n",
            "Requirement already satisfied: smart-open<8.0.0,>=5.2.1 in /usr/local/lib/python3.10/dist-packages (from weasel<0.5.0,>=0.1.0->spacy) (7.0.4)\n",
            "Requirement already satisfied: MarkupSafe>=2.0 in /usr/local/lib/python3.10/dist-packages (from jinja2->spacy) (2.1.5)\n",
            "Requirement already satisfied: marisa-trie>=0.7.7 in /usr/local/lib/python3.10/dist-packages (from language-data>=1.2->langcodes<4.0.0,>=3.2.0->spacy) (1.2.0)\n",
            "Requirement already satisfied: markdown-it-py>=2.2.0 in /usr/local/lib/python3.10/dist-packages (from rich>=10.11.0->typer<1.0.0,>=0.3.0->spacy) (3.0.0)\n",
            "Requirement already satisfied: pygments<3.0.0,>=2.13.0 in /usr/local/lib/python3.10/dist-packages (from rich>=10.11.0->typer<1.0.0,>=0.3.0->spacy) (2.16.1)\n",
            "Requirement already satisfied: wrapt in /usr/local/lib/python3.10/dist-packages (from smart-open<8.0.0,>=5.2.1->weasel<0.5.0,>=0.1.0->spacy) (1.16.0)\n",
            "Requirement already satisfied: mdurl~=0.1 in /usr/local/lib/python3.10/dist-packages (from markdown-it-py>=2.2.0->rich>=10.11.0->typer<1.0.0,>=0.3.0->spacy) (0.1.2)\n",
            "Collecting PyMuPDF\n",
            "  Downloading PyMuPDF-1.24.9-cp310-none-manylinux2014_x86_64.whl.metadata (3.4 kB)\n",
            "Collecting PyMuPDFb==1.24.9 (from PyMuPDF)\n",
            "  Downloading PyMuPDFb-1.24.9-py3-none-manylinux2014_x86_64.manylinux_2_17_x86_64.whl.metadata (1.4 kB)\n",
            "Downloading PyMuPDF-1.24.9-cp310-none-manylinux2014_x86_64.whl (3.5 MB)\n",
            "\u001b[2K   \u001b[90m━━━━━━━━━━━━━━━━━━━━━━━━━━━━━━━━━━━━━━━━\u001b[0m \u001b[32m3.5/3.5 MB\u001b[0m \u001b[31m37.1 MB/s\u001b[0m eta \u001b[36m0:00:00\u001b[0m\n",
            "\u001b[?25hDownloading PyMuPDFb-1.24.9-py3-none-manylinux2014_x86_64.manylinux_2_17_x86_64.whl (15.9 MB)\n",
            "\u001b[2K   \u001b[90m━━━━━━━━━━━━━━━━━━━━━━━━━━━━━━━━━━━━━━━━\u001b[0m \u001b[32m15.9/15.9 MB\u001b[0m \u001b[31m65.0 MB/s\u001b[0m eta \u001b[36m0:00:00\u001b[0m\n",
            "\u001b[?25hInstalling collected packages: PyMuPDFb, PyMuPDF\n",
            "Successfully installed PyMuPDF-1.24.9 PyMuPDFb-1.24.9\n",
            "Requirement already satisfied: torch in /usr/local/lib/python3.10/dist-packages (2.4.0+cu121)\n",
            "Requirement already satisfied: filelock in /usr/local/lib/python3.10/dist-packages (from torch) (3.15.4)\n",
            "Requirement already satisfied: typing-extensions>=4.8.0 in /usr/local/lib/python3.10/dist-packages (from torch) (4.12.2)\n",
            "Requirement already satisfied: sympy in /usr/local/lib/python3.10/dist-packages (from torch) (1.13.2)\n",
            "Requirement already satisfied: networkx in /usr/local/lib/python3.10/dist-packages (from torch) (3.3)\n",
            "Requirement already satisfied: jinja2 in /usr/local/lib/python3.10/dist-packages (from torch) (3.1.4)\n",
            "Requirement already satisfied: fsspec in /usr/local/lib/python3.10/dist-packages (from torch) (2024.6.1)\n",
            "Requirement already satisfied: MarkupSafe>=2.0 in /usr/local/lib/python3.10/dist-packages (from jinja2->torch) (2.1.5)\n",
            "Requirement already satisfied: mpmath<1.4,>=1.1.0 in /usr/local/lib/python3.10/dist-packages (from sympy->torch) (1.3.0)\n",
            "Collecting nlpaug\n",
            "  Downloading nlpaug-1.1.11-py3-none-any.whl.metadata (14 kB)\n",
            "Requirement already satisfied: numpy>=1.16.2 in /usr/local/lib/python3.10/dist-packages (from nlpaug) (1.26.4)\n",
            "Requirement already satisfied: pandas>=1.2.0 in /usr/local/lib/python3.10/dist-packages (from nlpaug) (2.1.4)\n",
            "Requirement already satisfied: requests>=2.22.0 in /usr/local/lib/python3.10/dist-packages (from nlpaug) (2.32.3)\n",
            "Requirement already satisfied: gdown>=4.0.0 in /usr/local/lib/python3.10/dist-packages (from nlpaug) (5.1.0)\n",
            "Requirement already satisfied: beautifulsoup4 in /usr/local/lib/python3.10/dist-packages (from gdown>=4.0.0->nlpaug) (4.12.3)\n",
            "Requirement already satisfied: filelock in /usr/local/lib/python3.10/dist-packages (from gdown>=4.0.0->nlpaug) (3.15.4)\n",
            "Requirement already satisfied: tqdm in /usr/local/lib/python3.10/dist-packages (from gdown>=4.0.0->nlpaug) (4.66.5)\n",
            "Requirement already satisfied: python-dateutil>=2.8.2 in /usr/local/lib/python3.10/dist-packages (from pandas>=1.2.0->nlpaug) (2.8.2)\n",
            "Requirement already satisfied: pytz>=2020.1 in /usr/local/lib/python3.10/dist-packages (from pandas>=1.2.0->nlpaug) (2024.1)\n",
            "Requirement already satisfied: tzdata>=2022.1 in /usr/local/lib/python3.10/dist-packages (from pandas>=1.2.0->nlpaug) (2024.1)\n",
            "Requirement already satisfied: charset-normalizer<4,>=2 in /usr/local/lib/python3.10/dist-packages (from requests>=2.22.0->nlpaug) (3.3.2)\n",
            "Requirement already satisfied: idna<4,>=2.5 in /usr/local/lib/python3.10/dist-packages (from requests>=2.22.0->nlpaug) (3.7)\n",
            "Requirement already satisfied: urllib3<3,>=1.21.1 in /usr/local/lib/python3.10/dist-packages (from requests>=2.22.0->nlpaug) (2.0.7)\n",
            "Requirement already satisfied: certifi>=2017.4.17 in /usr/local/lib/python3.10/dist-packages (from requests>=2.22.0->nlpaug) (2024.7.4)\n",
            "Requirement already satisfied: six>=1.5 in /usr/local/lib/python3.10/dist-packages (from python-dateutil>=2.8.2->pandas>=1.2.0->nlpaug) (1.16.0)\n",
            "Requirement already satisfied: soupsieve>1.2 in /usr/local/lib/python3.10/dist-packages (from beautifulsoup4->gdown>=4.0.0->nlpaug) (2.6)\n",
            "Requirement already satisfied: PySocks!=1.5.7,>=1.5.6 in /usr/local/lib/python3.10/dist-packages (from requests[socks]->gdown>=4.0.0->nlpaug) (1.7.1)\n",
            "Downloading nlpaug-1.1.11-py3-none-any.whl (410 kB)\n",
            "\u001b[2K   \u001b[90m━━━━━━━━━━━━━━━━━━━━━━━━━━━━━━━━━━━━━━━━\u001b[0m \u001b[32m410.5/410.5 kB\u001b[0m \u001b[31m10.7 MB/s\u001b[0m eta \u001b[36m0:00:00\u001b[0m\n",
            "\u001b[?25hInstalling collected packages: nlpaug\n",
            "Successfully installed nlpaug-1.1.11\n",
            "Collecting spacy-transformers\n",
            "  Downloading spacy_transformers-1.3.5-cp310-cp310-manylinux_2_17_x86_64.manylinux2014_x86_64.whl.metadata (7.0 kB)\n",
            "Requirement already satisfied: spacy<4.1.0,>=3.5.0 in /usr/local/lib/python3.10/dist-packages (from spacy-transformers) (3.7.6)\n",
            "Collecting transformers<4.37.0,>=3.4.0 (from spacy-transformers)\n",
            "  Downloading transformers-4.36.2-py3-none-any.whl.metadata (126 kB)\n",
            "\u001b[2K     \u001b[90m━━━━━━━━━━━━━━━━━━━━━━━━━━━━━━━━━━━━━━━━\u001b[0m \u001b[32m126.8/126.8 kB\u001b[0m \u001b[31m4.9 MB/s\u001b[0m eta \u001b[36m0:00:00\u001b[0m\n",
            "\u001b[?25hRequirement already satisfied: torch>=1.8.0 in /usr/local/lib/python3.10/dist-packages (from spacy-transformers) (2.4.0+cu121)\n",
            "Requirement already satisfied: srsly<3.0.0,>=2.4.0 in /usr/local/lib/python3.10/dist-packages (from spacy-transformers) (2.4.8)\n",
            "Collecting spacy-alignments<1.0.0,>=0.7.2 (from spacy-transformers)\n",
            "  Downloading spacy_alignments-0.9.1-cp310-cp310-manylinux_2_17_x86_64.manylinux2014_x86_64.whl.metadata (2.7 kB)\n",
            "Requirement already satisfied: numpy>=1.19.0 in /usr/local/lib/python3.10/dist-packages (from spacy-transformers) (1.26.4)\n",
            "Requirement already satisfied: spacy-legacy<3.1.0,>=3.0.11 in /usr/local/lib/python3.10/dist-packages (from spacy<4.1.0,>=3.5.0->spacy-transformers) (3.0.12)\n",
            "Requirement already satisfied: spacy-loggers<2.0.0,>=1.0.0 in /usr/local/lib/python3.10/dist-packages (from spacy<4.1.0,>=3.5.0->spacy-transformers) (1.0.5)\n",
            "Requirement already satisfied: murmurhash<1.1.0,>=0.28.0 in /usr/local/lib/python3.10/dist-packages (from spacy<4.1.0,>=3.5.0->spacy-transformers) (1.0.10)\n",
            "Requirement already satisfied: cymem<2.1.0,>=2.0.2 in /usr/local/lib/python3.10/dist-packages (from spacy<4.1.0,>=3.5.0->spacy-transformers) (2.0.8)\n",
            "Requirement already satisfied: preshed<3.1.0,>=3.0.2 in /usr/local/lib/python3.10/dist-packages (from spacy<4.1.0,>=3.5.0->spacy-transformers) (3.0.9)\n",
            "Requirement already satisfied: thinc<8.3.0,>=8.2.2 in /usr/local/lib/python3.10/dist-packages (from spacy<4.1.0,>=3.5.0->spacy-transformers) (8.2.5)\n",
            "Requirement already satisfied: wasabi<1.2.0,>=0.9.1 in /usr/local/lib/python3.10/dist-packages (from spacy<4.1.0,>=3.5.0->spacy-transformers) (1.1.3)\n",
            "Requirement already satisfied: catalogue<2.1.0,>=2.0.6 in /usr/local/lib/python3.10/dist-packages (from spacy<4.1.0,>=3.5.0->spacy-transformers) (2.0.10)\n",
            "Requirement already satisfied: weasel<0.5.0,>=0.1.0 in /usr/local/lib/python3.10/dist-packages (from spacy<4.1.0,>=3.5.0->spacy-transformers) (0.4.1)\n",
            "Requirement already satisfied: typer<1.0.0,>=0.3.0 in /usr/local/lib/python3.10/dist-packages (from spacy<4.1.0,>=3.5.0->spacy-transformers) (0.12.4)\n",
            "Requirement already satisfied: tqdm<5.0.0,>=4.38.0 in /usr/local/lib/python3.10/dist-packages (from spacy<4.1.0,>=3.5.0->spacy-transformers) (4.66.5)\n",
            "Requirement already satisfied: requests<3.0.0,>=2.13.0 in /usr/local/lib/python3.10/dist-packages (from spacy<4.1.0,>=3.5.0->spacy-transformers) (2.32.3)\n",
            "Requirement already satisfied: pydantic!=1.8,!=1.8.1,<3.0.0,>=1.7.4 in /usr/local/lib/python3.10/dist-packages (from spacy<4.1.0,>=3.5.0->spacy-transformers) (2.8.2)\n",
            "Requirement already satisfied: jinja2 in /usr/local/lib/python3.10/dist-packages (from spacy<4.1.0,>=3.5.0->spacy-transformers) (3.1.4)\n",
            "Requirement already satisfied: setuptools in /usr/local/lib/python3.10/dist-packages (from spacy<4.1.0,>=3.5.0->spacy-transformers) (71.0.4)\n",
            "Requirement already satisfied: packaging>=20.0 in /usr/local/lib/python3.10/dist-packages (from spacy<4.1.0,>=3.5.0->spacy-transformers) (24.1)\n",
            "Requirement already satisfied: langcodes<4.0.0,>=3.2.0 in /usr/local/lib/python3.10/dist-packages (from spacy<4.1.0,>=3.5.0->spacy-transformers) (3.4.0)\n",
            "Requirement already satisfied: filelock in /usr/local/lib/python3.10/dist-packages (from torch>=1.8.0->spacy-transformers) (3.15.4)\n",
            "Requirement already satisfied: typing-extensions>=4.8.0 in /usr/local/lib/python3.10/dist-packages (from torch>=1.8.0->spacy-transformers) (4.12.2)\n",
            "Requirement already satisfied: sympy in /usr/local/lib/python3.10/dist-packages (from torch>=1.8.0->spacy-transformers) (1.13.2)\n",
            "Requirement already satisfied: networkx in /usr/local/lib/python3.10/dist-packages (from torch>=1.8.0->spacy-transformers) (3.3)\n",
            "Requirement already satisfied: fsspec in /usr/local/lib/python3.10/dist-packages (from torch>=1.8.0->spacy-transformers) (2024.6.1)\n",
            "Requirement already satisfied: huggingface-hub<1.0,>=0.19.3 in /usr/local/lib/python3.10/dist-packages (from transformers<4.37.0,>=3.4.0->spacy-transformers) (0.23.5)\n",
            "Requirement already satisfied: pyyaml>=5.1 in /usr/local/lib/python3.10/dist-packages (from transformers<4.37.0,>=3.4.0->spacy-transformers) (6.0.2)\n",
            "Requirement already satisfied: regex!=2019.12.17 in /usr/local/lib/python3.10/dist-packages (from transformers<4.37.0,>=3.4.0->spacy-transformers) (2024.5.15)\n",
            "Collecting tokenizers<0.19,>=0.14 (from transformers<4.37.0,>=3.4.0->spacy-transformers)\n",
            "  Downloading tokenizers-0.15.2-cp310-cp310-manylinux_2_17_x86_64.manylinux2014_x86_64.whl.metadata (6.7 kB)\n",
            "Requirement already satisfied: safetensors>=0.3.1 in /usr/local/lib/python3.10/dist-packages (from transformers<4.37.0,>=3.4.0->spacy-transformers) (0.4.4)\n",
            "Requirement already satisfied: language-data>=1.2 in /usr/local/lib/python3.10/dist-packages (from langcodes<4.0.0,>=3.2.0->spacy<4.1.0,>=3.5.0->spacy-transformers) (1.2.0)\n",
            "Requirement already satisfied: annotated-types>=0.4.0 in /usr/local/lib/python3.10/dist-packages (from pydantic!=1.8,!=1.8.1,<3.0.0,>=1.7.4->spacy<4.1.0,>=3.5.0->spacy-transformers) (0.7.0)\n",
            "Requirement already satisfied: pydantic-core==2.20.1 in /usr/local/lib/python3.10/dist-packages (from pydantic!=1.8,!=1.8.1,<3.0.0,>=1.7.4->spacy<4.1.0,>=3.5.0->spacy-transformers) (2.20.1)\n",
            "Requirement already satisfied: charset-normalizer<4,>=2 in /usr/local/lib/python3.10/dist-packages (from requests<3.0.0,>=2.13.0->spacy<4.1.0,>=3.5.0->spacy-transformers) (3.3.2)\n",
            "Requirement already satisfied: idna<4,>=2.5 in /usr/local/lib/python3.10/dist-packages (from requests<3.0.0,>=2.13.0->spacy<4.1.0,>=3.5.0->spacy-transformers) (3.7)\n",
            "Requirement already satisfied: urllib3<3,>=1.21.1 in /usr/local/lib/python3.10/dist-packages (from requests<3.0.0,>=2.13.0->spacy<4.1.0,>=3.5.0->spacy-transformers) (2.0.7)\n",
            "Requirement already satisfied: certifi>=2017.4.17 in /usr/local/lib/python3.10/dist-packages (from requests<3.0.0,>=2.13.0->spacy<4.1.0,>=3.5.0->spacy-transformers) (2024.7.4)\n",
            "Requirement already satisfied: blis<0.8.0,>=0.7.8 in /usr/local/lib/python3.10/dist-packages (from thinc<8.3.0,>=8.2.2->spacy<4.1.0,>=3.5.0->spacy-transformers) (0.7.11)\n",
            "Requirement already satisfied: confection<1.0.0,>=0.0.1 in /usr/local/lib/python3.10/dist-packages (from thinc<8.3.0,>=8.2.2->spacy<4.1.0,>=3.5.0->spacy-transformers) (0.1.5)\n",
            "Requirement already satisfied: click>=8.0.0 in /usr/local/lib/python3.10/dist-packages (from typer<1.0.0,>=0.3.0->spacy<4.1.0,>=3.5.0->spacy-transformers) (8.1.7)\n",
            "Requirement already satisfied: shellingham>=1.3.0 in /usr/local/lib/python3.10/dist-packages (from typer<1.0.0,>=0.3.0->spacy<4.1.0,>=3.5.0->spacy-transformers) (1.5.4)\n",
            "Requirement already satisfied: rich>=10.11.0 in /usr/local/lib/python3.10/dist-packages (from typer<1.0.0,>=0.3.0->spacy<4.1.0,>=3.5.0->spacy-transformers) (13.7.1)\n",
            "Requirement already satisfied: cloudpathlib<1.0.0,>=0.7.0 in /usr/local/lib/python3.10/dist-packages (from weasel<0.5.0,>=0.1.0->spacy<4.1.0,>=3.5.0->spacy-transformers) (0.18.1)\n",
            "Requirement already satisfied: smart-open<8.0.0,>=5.2.1 in /usr/local/lib/python3.10/dist-packages (from weasel<0.5.0,>=0.1.0->spacy<4.1.0,>=3.5.0->spacy-transformers) (7.0.4)\n",
            "Requirement already satisfied: MarkupSafe>=2.0 in /usr/local/lib/python3.10/dist-packages (from jinja2->spacy<4.1.0,>=3.5.0->spacy-transformers) (2.1.5)\n",
            "Requirement already satisfied: mpmath<1.4,>=1.1.0 in /usr/local/lib/python3.10/dist-packages (from sympy->torch>=1.8.0->spacy-transformers) (1.3.0)\n",
            "Requirement already satisfied: marisa-trie>=0.7.7 in /usr/local/lib/python3.10/dist-packages (from language-data>=1.2->langcodes<4.0.0,>=3.2.0->spacy<4.1.0,>=3.5.0->spacy-transformers) (1.2.0)\n",
            "Requirement already satisfied: markdown-it-py>=2.2.0 in /usr/local/lib/python3.10/dist-packages (from rich>=10.11.0->typer<1.0.0,>=0.3.0->spacy<4.1.0,>=3.5.0->spacy-transformers) (3.0.0)\n",
            "Requirement already satisfied: pygments<3.0.0,>=2.13.0 in /usr/local/lib/python3.10/dist-packages (from rich>=10.11.0->typer<1.0.0,>=0.3.0->spacy<4.1.0,>=3.5.0->spacy-transformers) (2.16.1)\n",
            "Requirement already satisfied: wrapt in /usr/local/lib/python3.10/dist-packages (from smart-open<8.0.0,>=5.2.1->weasel<0.5.0,>=0.1.0->spacy<4.1.0,>=3.5.0->spacy-transformers) (1.16.0)\n",
            "Requirement already satisfied: mdurl~=0.1 in /usr/local/lib/python3.10/dist-packages (from markdown-it-py>=2.2.0->rich>=10.11.0->typer<1.0.0,>=0.3.0->spacy<4.1.0,>=3.5.0->spacy-transformers) (0.1.2)\n",
            "Downloading spacy_transformers-1.3.5-cp310-cp310-manylinux_2_17_x86_64.manylinux2014_x86_64.whl (197 kB)\n",
            "\u001b[2K   \u001b[90m━━━━━━━━━━━━━━━━━━━━━━━━━━━━━━━━━━━━━━━━\u001b[0m \u001b[32m197.8/197.8 kB\u001b[0m \u001b[31m13.4 MB/s\u001b[0m eta \u001b[36m0:00:00\u001b[0m\n",
            "\u001b[?25hDownloading spacy_alignments-0.9.1-cp310-cp310-manylinux_2_17_x86_64.manylinux2014_x86_64.whl (313 kB)\n",
            "\u001b[2K   \u001b[90m━━━━━━━━━━━━━━━━━━━━━━━━━━━━━━━━━━━━━━━━\u001b[0m \u001b[32m314.0/314.0 kB\u001b[0m \u001b[31m20.1 MB/s\u001b[0m eta \u001b[36m0:00:00\u001b[0m\n",
            "\u001b[?25hDownloading transformers-4.36.2-py3-none-any.whl (8.2 MB)\n",
            "\u001b[2K   \u001b[90m━━━━━━━━━━━━━━━━━━━━━━━━━━━━━━━━━━━━━━━━\u001b[0m \u001b[32m8.2/8.2 MB\u001b[0m \u001b[31m63.5 MB/s\u001b[0m eta \u001b[36m0:00:00\u001b[0m\n",
            "\u001b[?25hDownloading tokenizers-0.15.2-cp310-cp310-manylinux_2_17_x86_64.manylinux2014_x86_64.whl (3.6 MB)\n",
            "\u001b[2K   \u001b[90m━━━━━━━━━━━━━━━━━━━━━━━━━━━━━━━━━━━━━━━━\u001b[0m \u001b[32m3.6/3.6 MB\u001b[0m \u001b[31m48.5 MB/s\u001b[0m eta \u001b[36m0:00:00\u001b[0m\n",
            "\u001b[?25hInstalling collected packages: spacy-alignments, tokenizers, transformers, spacy-transformers\n",
            "  Attempting uninstall: tokenizers\n",
            "    Found existing installation: tokenizers 0.19.1\n",
            "    Uninstalling tokenizers-0.19.1:\n",
            "      Successfully uninstalled tokenizers-0.19.1\n",
            "  Attempting uninstall: transformers\n",
            "    Found existing installation: transformers 4.42.4\n",
            "    Uninstalling transformers-4.42.4:\n",
            "      Successfully uninstalled transformers-4.42.4\n",
            "Successfully installed spacy-alignments-0.9.1 spacy-transformers-1.3.5 tokenizers-0.15.2 transformers-4.36.2\n",
            "Collecting dataset\n",
            "  Downloading dataset-1.6.2-py2.py3-none-any.whl.metadata (1.9 kB)\n",
            "Collecting sqlalchemy<2.0.0,>=1.3.2 (from dataset)\n",
            "  Downloading SQLAlchemy-1.4.53-cp310-cp310-manylinux_2_5_x86_64.manylinux1_x86_64.manylinux_2_17_x86_64.manylinux2014_x86_64.whl.metadata (10 kB)\n",
            "Collecting alembic>=0.6.2 (from dataset)\n",
            "  Downloading alembic-1.13.2-py3-none-any.whl.metadata (7.4 kB)\n",
            "Collecting banal>=1.0.1 (from dataset)\n",
            "  Downloading banal-1.0.6-py2.py3-none-any.whl.metadata (1.4 kB)\n",
            "Collecting Mako (from alembic>=0.6.2->dataset)\n",
            "  Downloading Mako-1.3.5-py3-none-any.whl.metadata (2.9 kB)\n",
            "Requirement already satisfied: typing-extensions>=4 in /usr/local/lib/python3.10/dist-packages (from alembic>=0.6.2->dataset) (4.12.2)\n",
            "Requirement already satisfied: greenlet!=0.4.17 in /usr/local/lib/python3.10/dist-packages (from sqlalchemy<2.0.0,>=1.3.2->dataset) (3.0.3)\n",
            "Requirement already satisfied: MarkupSafe>=0.9.2 in /usr/local/lib/python3.10/dist-packages (from Mako->alembic>=0.6.2->dataset) (2.1.5)\n",
            "Downloading dataset-1.6.2-py2.py3-none-any.whl (18 kB)\n",
            "Downloading alembic-1.13.2-py3-none-any.whl (232 kB)\n",
            "\u001b[2K   \u001b[90m━━━━━━━━━━━━━━━━━━━━━━━━━━━━━━━━━━━━━━━━\u001b[0m \u001b[32m233.0/233.0 kB\u001b[0m \u001b[31m13.8 MB/s\u001b[0m eta \u001b[36m0:00:00\u001b[0m\n",
            "\u001b[?25hDownloading banal-1.0.6-py2.py3-none-any.whl (6.1 kB)\n",
            "Downloading SQLAlchemy-1.4.53-cp310-cp310-manylinux_2_5_x86_64.manylinux1_x86_64.manylinux_2_17_x86_64.manylinux2014_x86_64.whl (1.6 MB)\n",
            "\u001b[2K   \u001b[90m━━━━━━━━━━━━━━━━━━━━━━━━━━━━━━━━━━━━━━━━\u001b[0m \u001b[32m1.6/1.6 MB\u001b[0m \u001b[31m52.9 MB/s\u001b[0m eta \u001b[36m0:00:00\u001b[0m\n",
            "\u001b[?25hDownloading Mako-1.3.5-py3-none-any.whl (78 kB)\n",
            "\u001b[2K   \u001b[90m━━━━━━━━━━━━━━━━━━━━━━━━━━━━━━━━━━━━━━━━\u001b[0m \u001b[32m78.6/78.6 kB\u001b[0m \u001b[31m5.3 MB/s\u001b[0m eta \u001b[36m0:00:00\u001b[0m\n",
            "\u001b[?25hInstalling collected packages: banal, sqlalchemy, Mako, alembic, dataset\n",
            "  Attempting uninstall: sqlalchemy\n",
            "    Found existing installation: SQLAlchemy 2.0.32\n",
            "    Uninstalling SQLAlchemy-2.0.32:\n",
            "      Successfully uninstalled SQLAlchemy-2.0.32\n",
            "\u001b[31mERROR: pip's dependency resolver does not currently take into account all the packages that are installed. This behaviour is the source of the following dependency conflicts.\n",
            "ipython-sql 0.5.0 requires sqlalchemy>=2.0, but you have sqlalchemy 1.4.53 which is incompatible.\u001b[0m\u001b[31m\n",
            "\u001b[0mSuccessfully installed Mako-1.3.5 alembic-1.13.2 banal-1.0.6 dataset-1.6.2 sqlalchemy-1.4.53\n",
            "Collecting pdfplumber\n",
            "  Downloading pdfplumber-0.11.4-py3-none-any.whl.metadata (41 kB)\n",
            "\u001b[2K     \u001b[90m━━━━━━━━━━━━━━━━━━━━━━━━━━━━━━━━━━━━━━━━\u001b[0m \u001b[32m42.0/42.0 kB\u001b[0m \u001b[31m2.6 MB/s\u001b[0m eta \u001b[36m0:00:00\u001b[0m\n",
            "\u001b[?25hCollecting pdfminer.six==20231228 (from pdfplumber)\n",
            "  Downloading pdfminer.six-20231228-py3-none-any.whl.metadata (4.2 kB)\n",
            "Requirement already satisfied: Pillow>=9.1 in /usr/local/lib/python3.10/dist-packages (from pdfplumber) (9.4.0)\n",
            "Collecting pypdfium2>=4.18.0 (from pdfplumber)\n",
            "  Downloading pypdfium2-4.30.0-py3-none-manylinux_2_17_x86_64.manylinux2014_x86_64.whl.metadata (48 kB)\n",
            "\u001b[2K     \u001b[90m━━━━━━━━━━━━━━━━━━━━━━━━━━━━━━━━━━━━━━━━\u001b[0m \u001b[32m48.5/48.5 kB\u001b[0m \u001b[31m2.8 MB/s\u001b[0m eta \u001b[36m0:00:00\u001b[0m\n",
            "\u001b[?25hRequirement already satisfied: charset-normalizer>=2.0.0 in /usr/local/lib/python3.10/dist-packages (from pdfminer.six==20231228->pdfplumber) (3.3.2)\n",
            "Requirement already satisfied: cryptography>=36.0.0 in /usr/local/lib/python3.10/dist-packages (from pdfminer.six==20231228->pdfplumber) (43.0.0)\n",
            "Requirement already satisfied: cffi>=1.12 in /usr/local/lib/python3.10/dist-packages (from cryptography>=36.0.0->pdfminer.six==20231228->pdfplumber) (1.17.0)\n",
            "Requirement already satisfied: pycparser in /usr/local/lib/python3.10/dist-packages (from cffi>=1.12->cryptography>=36.0.0->pdfminer.six==20231228->pdfplumber) (2.22)\n",
            "Downloading pdfplumber-0.11.4-py3-none-any.whl (59 kB)\n",
            "\u001b[2K   \u001b[90m━━━━━━━━━━━━━━━━━━━━━━━━━━━━━━━━━━━━━━━━\u001b[0m \u001b[32m59.2/59.2 kB\u001b[0m \u001b[31m4.2 MB/s\u001b[0m eta \u001b[36m0:00:00\u001b[0m\n",
            "\u001b[?25hDownloading pdfminer.six-20231228-py3-none-any.whl (5.6 MB)\n",
            "\u001b[2K   \u001b[90m━━━━━━━━━━━━━━━━━━━━━━━━━━━━━━━━━━━━━━━━\u001b[0m \u001b[32m5.6/5.6 MB\u001b[0m \u001b[31m77.9 MB/s\u001b[0m eta \u001b[36m0:00:00\u001b[0m\n",
            "\u001b[?25hDownloading pypdfium2-4.30.0-py3-none-manylinux_2_17_x86_64.manylinux2014_x86_64.whl (2.8 MB)\n",
            "\u001b[2K   \u001b[90m━━━━━━━━━━━━━━━━━━━━━━━━━━━━━━━━━━━━━━━━\u001b[0m \u001b[32m2.8/2.8 MB\u001b[0m \u001b[31m70.0 MB/s\u001b[0m eta \u001b[36m0:00:00\u001b[0m\n",
            "\u001b[?25hInstalling collected packages: pypdfium2, pdfminer.six, pdfplumber\n",
            "Successfully installed pdfminer.six-20231228 pdfplumber-0.11.4 pypdfium2-4.30.0\n"
          ]
        }
      ],
      "source": [
        "!pip install transformers\n",
        "!pip install fitz\n",
        "!pip install spacy\n",
        "!pip install PyMuPDF\n",
        "!pip install torch\n",
        "!pip install nlpaug\n",
        "!pip install spacy-transformers\n",
        "!pip install dataset\n",
        "!pip install pdfplumber"
      ]
    },
    {
      "cell_type": "code",
      "source": [
        "!pip install PyMuPDF"
      ],
      "metadata": {
        "colab": {
          "base_uri": "https://localhost:8080/"
        },
        "id": "RSudVAs_IKzK",
        "outputId": "135c5713-53bd-4ef1-9368-bf8f42258267"
      },
      "execution_count": null,
      "outputs": [
        {
          "output_type": "stream",
          "name": "stdout",
          "text": [
            "Collecting PyMuPDF\n",
            "  Downloading PyMuPDF-1.24.9-cp310-none-manylinux2014_x86_64.whl.metadata (3.4 kB)\n",
            "Collecting PyMuPDFb==1.24.9 (from PyMuPDF)\n",
            "  Downloading PyMuPDFb-1.24.9-py3-none-manylinux2014_x86_64.manylinux_2_17_x86_64.whl.metadata (1.4 kB)\n",
            "Downloading PyMuPDF-1.24.9-cp310-none-manylinux2014_x86_64.whl (3.5 MB)\n",
            "\u001b[2K   \u001b[90m━━━━━━━━━━━━━━━━━━━━━━━━━━━━━━━━━━━━━━━━\u001b[0m \u001b[32m3.5/3.5 MB\u001b[0m \u001b[31m38.5 MB/s\u001b[0m eta \u001b[36m0:00:00\u001b[0m\n",
            "\u001b[?25hDownloading PyMuPDFb-1.24.9-py3-none-manylinux2014_x86_64.manylinux_2_17_x86_64.whl (15.9 MB)\n",
            "\u001b[2K   \u001b[90m━━━━━━━━━━━━━━━━━━━━━━━━━━━━━━━━━━━━━━━━\u001b[0m \u001b[32m15.9/15.9 MB\u001b[0m \u001b[31m95.8 MB/s\u001b[0m eta \u001b[36m0:00:00\u001b[0m\n",
            "\u001b[?25hInstalling collected packages: PyMuPDFb, PyMuPDF\n",
            "Successfully installed PyMuPDF-1.24.9 PyMuPDFb-1.24.9\n"
          ]
        }
      ]
    },
    {
      "cell_type": "markdown",
      "source": [
        "IMPORTING PACKAGES"
      ],
      "metadata": {
        "id": "0MMcFKnd24Ga"
      }
    },
    {
      "cell_type": "code",
      "source": [
        "import os\n",
        "import re\n",
        "import random\n",
        "import pickle\n",
        "import fitz\n",
        "import spacy\n",
        "from spacy.util import minibatch, compounding\n",
        "from spacy.training import Example\n",
        "from sklearn.model_selection import train_test_split\n",
        "from sklearn.preprocessing import LabelEncoder\n",
        "from sklearn.metrics import confusion_matrix, classification_report, roc_curve, auc\n",
        "from imblearn.over_sampling import SMOTE\n",
        "import tensorflow as tf\n",
        "from tensorflow.keras.models import Sequential, Model\n",
        "from tensorflow.keras.layers import LSTM, Dense, Embedding, Input\n",
        "from tensorflow.keras.preprocessing.text import Tokenizer\n",
        "from tensorflow.keras.preprocessing.sequence import pad_sequences\n",
        "from tensorflow.keras.callbacks import EarlyStopping\n",
        "import numpy as np\n",
        "import pandas as pd\n",
        "import matplotlib.pyplot as plt\n",
        "import seaborn as sns\n",
        "import warnings\n",
        "warnings.filterwarnings('ignore')\n",
        "import nltk\n",
        "from nltk.corpus import stopwords\n",
        "# Download NLTK stopwords\n",
        "nltk.download('stopwords')\n",
        "\n",
        "# Load stopwords\n",
        "stop_words = set(stopwords.words('english'))"
      ],
      "metadata": {
        "colab": {
          "base_uri": "https://localhost:8080/"
        },
        "id": "b-HtGBlWFbN8",
        "outputId": "890421b5-499b-44a7-9940-60b0c2e34dee"
      },
      "execution_count": null,
      "outputs": [
        {
          "output_type": "stream",
          "name": "stderr",
          "text": [
            "[nltk_data] Downloading package stopwords to /root/nltk_data...\n",
            "[nltk_data]   Unzipping corpora/stopwords.zip.\n"
          ]
        }
      ]
    },
    {
      "cell_type": "markdown",
      "source": [
        "EXTRACT TEXT FROM PDF"
      ],
      "metadata": {
        "id": "D5QrQsEu28NY"
      }
    },
    {
      "cell_type": "code",
      "source": [
        "def extract_text_from_pdfs(pdf_paths):\n",
        "    all_text = []\n",
        "    for pdf_path in pdf_paths:\n",
        "        doc = fitz.open(pdf_path)\n",
        "        text = \"\"\n",
        "        for page in doc:\n",
        "            text += page.get_text()\n",
        "        all_text.append(text)\n",
        "    return all_text"
      ],
      "metadata": {
        "id": "WZVR9_2CFuRB"
      },
      "execution_count": null,
      "outputs": []
    },
    {
      "cell_type": "markdown",
      "source": [
        "CREATING NER DATA USING REGEX PATTERN"
      ],
      "metadata": {
        "id": "GvMjAuXb3AN4"
      }
    },
    {
      "cell_type": "code",
      "source": [
        "def create_ner_training_data(texts):\n",
        "    training_data = []\n",
        "\n",
        "    patterns = {\n",
        "        'SUPERNOVA_NAME': re.compile(r'\\bSN\\d{4}[A-Za-z]*\\b'),\n",
        "        'SUPERNOVA_TYPE': re.compile(r'\\bType [I|II][a-c|p|n|l|b]?\\b'),\n",
        "        'LUMINOSITY': re.compile(r'-?\\d+\\.\\d+ mag'),\n",
        "        'HOST_GALAXY': re.compile(r'NGC \\d+|IC \\d+|Messier \\d+|UGC \\d+|ESO \\d+-\\d+|PGC \\d+|Mrk \\d+|SDSS J\\d+|RX J\\d+|2MASX J\\d+|A\\d+|PKS \\d+'),\n",
        "        'REDSHIFT': re.compile(r'z=\\d+\\.\\d+'),\n",
        "        'DISTANCE': re.compile(r'\\d+\\.\\d+ Mpc')\n",
        "    }\n",
        "\n",
        "    for text in texts:\n",
        "        entities = []\n",
        "        for label, pattern in patterns.items():\n",
        "            for match in pattern.finditer(text):\n",
        "                start, end = match.span()\n",
        "                entities.append((start, end, label))\n",
        "\n",
        "\n",
        "        entities.sort(key=lambda x: x[0])\n",
        "        training_data.append((text, {\"entities\": entities}))\n",
        "\n",
        "    return training_data"
      ],
      "metadata": {
        "id": "1M_egSFBGzzj"
      },
      "execution_count": null,
      "outputs": []
    },
    {
      "cell_type": "markdown",
      "source": [
        "TRAINING CUSTOM NER"
      ],
      "metadata": {
        "id": "YArcGrD23EDT"
      }
    },
    {
      "cell_type": "code",
      "source": [
        "def train_custom_ner(train_data, iterations=30):\n",
        "    nlp = spacy.blank(\"en\")\n",
        "    if \"ner\" not in nlp.pipe_names:\n",
        "        ner = nlp.add_pipe(\"ner\")\n",
        "    else:\n",
        "        ner = nlp.get_pipe(\"ner\")\n",
        "\n",
        "    for _, annotations in train_data:\n",
        "        for ent in annotations.get(\"entities\"):\n",
        "            ner.add_label(ent[2])\n",
        "\n",
        "    other_pipes = [pipe for pipe in nlp.pipe_names if pipe != \"ner\"]\n",
        "    with nlp.disable_pipes(*other_pipes):\n",
        "        optimizer = nlp.begin_training()\n",
        "        for itn in range(iterations):\n",
        "            random.shuffle(train_data)\n",
        "            losses = {}\n",
        "            batches = minibatch(train_data, size=compounding(4.0, 32.0, 1.001))\n",
        "            for batch in batches:\n",
        "                for text, annotations in batch:\n",
        "                    doc = nlp.make_doc(text)\n",
        "                    example = Example.from_dict(doc, annotations)\n",
        "                    nlp.update([example], drop=0.5, losses=losses)\n",
        "            print(f\"Losses at iteration {itn}: {losses}\")\n",
        "\n",
        "    return nlp"
      ],
      "metadata": {
        "id": "p0zzJR2GR3mC"
      },
      "execution_count": null,
      "outputs": []
    },
    {
      "cell_type": "markdown",
      "source": [
        "EXTRACTING INITIAL ANNOTATION USING REGEX PATTERN"
      ],
      "metadata": {
        "id": "hMeAQAbu3HPg"
      }
    },
    {
      "cell_type": "code",
      "source": [
        "def initial_annotation(text):\n",
        "    annotations = []\n",
        "\n",
        "    patterns = {\n",
        "        'SUPERNOVA_NAME': re.compile(r'\\bSN\\d{4}[A-Za-z]*\\b'),\n",
        "        'SUPERNOVA_TYPE': re.compile(r'\\bType [I|II][a-c|p|n|l|b]?\\b'),\n",
        "        'LUMINOSITY': re.compile(r'-?\\d+\\.\\d+ mag'),\n",
        "        'HOST_GALAXY': re.compile(r'NGC \\d+|IC \\d+|Messier \\d+|UGC \\d+|ESO \\d+-\\d+|PGC \\d+|Mrk \\d+|SDSS J\\d+|RX J\\d+|2MASX J\\d+|A\\d+|PKS \\d+'),\n",
        "        'REDSHIFT': re.compile(r'z=\\d+\\.\\d+'),\n",
        "        'DISTANCE': re.compile(r'\\d+\\.\\d+ Mpc')\n",
        "    }\n",
        "\n",
        "    for label, pattern in patterns.items():\n",
        "        for match in pattern.finditer(text):\n",
        "            annotations.append((match.group(), label))\n",
        "\n",
        "    return annotations"
      ],
      "metadata": {
        "id": "DPntFtVQR1KZ"
      },
      "execution_count": null,
      "outputs": []
    },
    {
      "cell_type": "markdown",
      "source": [
        "USING CUSTOM NER EXTRACTING MORE ANNOTATIONS"
      ],
      "metadata": {
        "id": "Xey8Qa5m3PK6"
      }
    },
    {
      "cell_type": "code",
      "source": [
        "def ner_annotation(text):\n",
        "    custom_ner_model = spacy.load(\"./custom_supernova_ner\")\n",
        "    doc = custom_ner_model(text)\n",
        "\n",
        "    all_results = []\n",
        "    for ent in doc.ents:\n",
        "        label = ent.label_\n",
        "        word = ent.text\n",
        "\n",
        "        if validate_entity(word, label):\n",
        "            all_results.append((word, label))\n",
        "\n",
        "    return all_results"
      ],
      "metadata": {
        "id": "ren9XJwkRy5O"
      },
      "execution_count": null,
      "outputs": []
    },
    {
      "cell_type": "markdown",
      "source": [
        "VALIDATING THE ANNOTATIONS"
      ],
      "metadata": {
        "id": "dm-5zI_H3TDC"
      }
    },
    {
      "cell_type": "code",
      "source": [
        "def validate_entity(entity, label):\n",
        "    supernova_name_pattern = re.compile(r'^SN\\d{4}[A-Za-z]*$')\n",
        "    type_pattern = re.compile(r'^Type [I|II][a-c|p|n|l|b]?$')\n",
        "    luminosity_pattern = re.compile(r'^-?\\d+\\.\\d+ mag$')\n",
        "    host_galaxy_pattern = re.compile(r'^(NGC \\d+|IC \\d+|Messier \\d+|UGC \\d+|ESO \\d+-\\d+|PGC \\d+|Mrk \\d+|SDSS J\\d+|RX J\\d+|2MASX J\\d+|PKS \\d+)$')\n",
        "    redshift_pattern = re.compile(r'^z=\\d+\\.\\d+$')\n",
        "    distance_pattern = re.compile(r'^\\d+\\.\\d+ Mpc$')\n",
        "\n",
        "    if label == \"SUPERNOVA_NAME\" and supernova_name_pattern.match(entity):\n",
        "        return True\n",
        "    elif label == \"SUPERNOVA_TYPE\" and type_pattern.match(entity):\n",
        "        return True\n",
        "    elif label == \"LUMINOSITY\" and luminosity_pattern.match(entity):\n",
        "        return True\n",
        "    elif label == \"HOST_GALAXY\" and host_galaxy_pattern.match(entity):\n",
        "        return True\n",
        "    elif label == \"REDSHIFT\" and redshift_pattern.match(entity):\n",
        "        return True\n",
        "    elif label == \"DISTANCE\" and distance_pattern.match(entity):\n",
        "        return True\n",
        "\n",
        "    return False"
      ],
      "metadata": {
        "id": "GMcj-K3vRxB2"
      },
      "execution_count": null,
      "outputs": []
    },
    {
      "cell_type": "markdown",
      "source": [
        "COMBINING ALL ANNOTATIONS"
      ],
      "metadata": {
        "id": "bTnkH-rI3ViW"
      }
    },
    {
      "cell_type": "code",
      "source": [
        "def combined_annotation(text):\n",
        "    if not text.strip():\n",
        "        return []\n",
        "\n",
        "    rule_based_anns = initial_annotation(text)\n",
        "    ner_anns = ner_annotation(text)\n",
        "\n",
        "    combined_anns = list(set(rule_based_anns + ner_anns))\n",
        "\n",
        "    valid_annotations = [ann for ann in combined_anns if validate_entity(ann[0], ann[1])]\n",
        "\n",
        "    return valid_annotations"
      ],
      "metadata": {
        "id": "oUGx6s6WRwUm"
      },
      "execution_count": null,
      "outputs": []
    },
    {
      "cell_type": "markdown",
      "source": [
        "GATHERING ALL ANNOTAIONS"
      ],
      "metadata": {
        "id": "aYWRAYDS3X2Q"
      }
    },
    {
      "cell_type": "code",
      "source": [
        "def gather_valid_annotations(texts):\n",
        "    all_annotations = []\n",
        "    for text in texts:\n",
        "        annotations = combined_annotation(text)\n",
        "        all_annotations.extend(annotations)\n",
        "    return all_annotations"
      ],
      "metadata": {
        "id": "34sH-ZajRscX"
      },
      "execution_count": null,
      "outputs": []
    },
    {
      "cell_type": "markdown",
      "source": [
        "EXTRACTING ANNOTATION FROM 20 PDFs"
      ],
      "metadata": {
        "id": "baYMpjVD3aHx"
      }
    },
    {
      "cell_type": "code",
      "source": [
        "import spacy\n",
        "from spacy.util import minibatch, compounding\n",
        "from spacy.training import Example\n",
        "import random\n",
        "# Main execution\n",
        "pdf_paths = ['/content/sample_data/Supernovae_dataset/0303428v1.pdf',\n",
        "             '/content/sample_data/Supernovae_dataset/0601261v1.pdf',\n",
        "             '/content/sample_data/Supernovae_dataset/0611295v2.pdf',\n",
        "             '/content/sample_data/Supernovae_dataset/0612072v1.pdf',\n",
        "             '/content/sample_data/Supernovae_dataset/0706.4088v1.pdf',\n",
        "             '/content/sample_data/Supernovae_dataset/0708.2749v1.pdf',\n",
        "             '/content/sample_data/Supernovae_dataset/0801.3297v3.pdf',\n",
        "             '/content/sample_data/Supernovae_dataset/0905.4125v1.pdf',\n",
        "             '/content/sample_data/Supernovae_dataset/0907.4524v1.pdf',\n",
        "             '/content/sample_data/Supernovae_dataset/0908.4277v1.pdf',\n",
        "             '/content/sample_data/Supernovae_dataset/0910.5597v2.pdf',\n",
        "             '/content/sample_data/Supernovae_dataset/1211.1378v1.pdf',\n",
        "             '/content/sample_data/Supernovae_dataset/1803.01875v2.pdf',\n",
        "             '/content/sample_data/Supernovae_dataset/1805.03207v1.pdf',\n",
        "             '/content/sample_data/Supernovae_dataset/2103.05230v1.pdf',\n",
        "             '/content/sample_data/Supernovae_dataset/2105.00665v2.pdf',\n",
        "             '/content/sample_data/Supernovae_dataset/2312.04621v2.pdf',\n",
        "             '/content/sample_data/Supernovae_dataset/2407.03721v1.pdf',\n",
        "             '/content/sample_data/Supernovae_dataset/2408.06287v1.pdf',\n",
        "             '/content/sample_data/Supernovae_dataset/9805201v1.pdf'\n",
        "             ]\n",
        "\n",
        "texts = extract_text_from_pdfs(pdf_paths)\n",
        "training_data = create_ner_training_data(texts)\n",
        "custom_ner_model = train_custom_ner(training_data)\n",
        "custom_ner_model.to_disk(\"./custom_supernova_ner\")\n",
        "\n",
        "extracted_texts = extract_text_from_pdfs(pdf_paths)\n",
        "valid_annotations = gather_valid_annotations(extracted_texts)\n",
        "\n",
        "print(f\"Number of valid annotations: {len(valid_annotations)}\")\n",
        "print(\"Sample annotations:\")\n",
        "for ann in valid_annotations[:10]:\n",
        "    print(ann)"
      ],
      "metadata": {
        "colab": {
          "base_uri": "https://localhost:8080/"
        },
        "id": "VVXrWxVYG9LM",
        "outputId": "ea6310cb-380e-40ac-917b-af3c3f35d8fe"
      },
      "execution_count": null,
      "outputs": [
        {
          "output_type": "stream",
          "name": "stdout",
          "text": [
            "Losses at iteration 0: {'ner': 195340.07953623764}\n",
            "Losses at iteration 1: {'ner': 1542.7648983745084}\n",
            "Losses at iteration 2: {'ner': 1288.2987859952802}\n",
            "Losses at iteration 3: {'ner': 1096.2300816335332}\n",
            "Losses at iteration 4: {'ner': 745.1650337502306}\n",
            "Losses at iteration 5: {'ner': 927.0645113492918}\n",
            "Losses at iteration 6: {'ner': 458.97681723409374}\n",
            "Losses at iteration 7: {'ner': 319.5011753948648}\n",
            "Losses at iteration 8: {'ner': 279.21756343304304}\n",
            "Losses at iteration 9: {'ner': 239.73742267268207}\n",
            "Losses at iteration 10: {'ner': 220.9450231462456}\n",
            "Losses at iteration 11: {'ner': 190.39777304984216}\n",
            "Losses at iteration 12: {'ner': 202.52082317388826}\n",
            "Losses at iteration 13: {'ner': 181.78355107873324}\n",
            "Losses at iteration 14: {'ner': 170.36774385911815}\n",
            "Losses at iteration 15: {'ner': 213.92457998331193}\n",
            "Losses at iteration 16: {'ner': 99.09850551649599}\n",
            "Losses at iteration 17: {'ner': 133.09497302021708}\n",
            "Losses at iteration 18: {'ner': 84.82826783170454}\n",
            "Losses at iteration 19: {'ner': 82.9575978662979}\n",
            "Losses at iteration 20: {'ner': 69.77866994768735}\n",
            "Losses at iteration 21: {'ner': 73.74307738872643}\n",
            "Losses at iteration 22: {'ner': 70.1719010972741}\n",
            "Losses at iteration 23: {'ner': 71.92087137272763}\n",
            "Losses at iteration 24: {'ner': 60.56280715598017}\n",
            "Losses at iteration 25: {'ner': 70.82510251238882}\n",
            "Losses at iteration 26: {'ner': 50.15229592752207}\n",
            "Losses at iteration 27: {'ner': 64.6591407370459}\n",
            "Losses at iteration 28: {'ner': 55.591456712116674}\n",
            "Losses at iteration 29: {'ner': 77.81302151576108}\n",
            "Number of valid annotations: 302\n",
            "Sample annotations:\n",
            "('SN1989B', 'SUPERNOVA_NAME')\n",
            "('SN1991bg', 'SUPERNOVA_NAME')\n",
            "('0.2 mag', 'LUMINOSITY')\n",
            "('SN1991T', 'SUPERNOVA_NAME')\n",
            "('0.25 mag', 'LUMINOSITY')\n",
            "('SN1998eq', 'SUPERNOVA_NAME')\n",
            "('22.1 mag', 'LUMINOSITY')\n",
            "('SN1981B', 'SUPERNOVA_NAME')\n",
            "('SN1998bu', 'SUPERNOVA_NAME')\n",
            "('SN1992bi', 'SUPERNOVA_NAME')\n"
          ]
        }
      ]
    },
    {
      "cell_type": "markdown",
      "source": [
        "VISUALISING ALL ANNOTATIONS"
      ],
      "metadata": {
        "id": "7kVtqeV_3ffJ"
      }
    },
    {
      "cell_type": "code",
      "source": [
        "print(f\"Number of valid annotations: {len(valid_annotations)}\")\n",
        "print(\"Sample annotations:\")\n",
        "for ann in valid_annotations[0:300]:\n",
        "    print(ann)"
      ],
      "metadata": {
        "colab": {
          "base_uri": "https://localhost:8080/"
        },
        "id": "zG2q0Al50Vwz",
        "outputId": "dbaba8dc-d018-4a5a-bab3-61dafb999b46"
      },
      "execution_count": null,
      "outputs": [
        {
          "output_type": "stream",
          "name": "stdout",
          "text": [
            "Number of valid annotations: 302\n",
            "Sample annotations:\n",
            "('SN1989B', 'SUPERNOVA_NAME')\n",
            "('SN1991bg', 'SUPERNOVA_NAME')\n",
            "('0.2 mag', 'LUMINOSITY')\n",
            "('SN1991T', 'SUPERNOVA_NAME')\n",
            "('0.25 mag', 'LUMINOSITY')\n",
            "('SN1998eq', 'SUPERNOVA_NAME')\n",
            "('22.1 mag', 'LUMINOSITY')\n",
            "('SN1981B', 'SUPERNOVA_NAME')\n",
            "('SN1998bu', 'SUPERNOVA_NAME')\n",
            "('SN1992bi', 'SUPERNOVA_NAME')\n",
            "('0.12 mag', 'LUMINOSITY')\n",
            "('SN1972E', 'SUPERNOVA_NAME')\n",
            "('0.02 mag', 'LUMINOSITY')\n",
            "('0.04 mag', 'LUMINOSITY')\n",
            "('SN1987A', 'SUPERNOVA_NAME')\n",
            "('SN1974G', 'SUPERNOVA_NAME')\n",
            "('SN1895B', 'SUPERNOVA_NAME')\n",
            "('0.6 mag', 'LUMINOSITY')\n",
            "('0.7 mag', 'LUMINOSITY')\n",
            "('0.06 mag', 'LUMINOSITY')\n",
            "('Type Ia', 'SUPERNOVA_TYPE')\n",
            "('SN1986G', 'SUPERNOVA_NAME')\n",
            "('SN1999em', 'SUPERNOVA_NAME')\n",
            "('SN1960F', 'SUPERNOVA_NAME')\n",
            "('0.01 mag', 'LUMINOSITY')\n",
            "('SN1937C', 'SUPERNOVA_NAME')\n",
            "('SN1990N', 'SUPERNOVA_NAME')\n",
            "('SN1999by', 'SUPERNOVA_NAME')\n",
            "('19.5 mag', 'LUMINOSITY')\n",
            "('Type Ia', 'SUPERNOVA_TYPE')\n",
            "('Type I', 'SUPERNOVA_TYPE')\n",
            "('0.27 mag', 'LUMINOSITY')\n",
            "('1.6 mag', 'LUMINOSITY')\n",
            "('1.13 mag', 'LUMINOSITY')\n",
            "('0.022 mag', 'LUMINOSITY')\n",
            "('0.03 mag', 'LUMINOSITY')\n",
            "('SN2005hk', 'SUPERNOVA_NAME')\n",
            "('0.0 mag', 'LUMINOSITY')\n",
            "('0.0098 mag', 'LUMINOSITY')\n",
            "('19.4 mag', 'LUMINOSITY')\n",
            "('0.035 mag', 'LUMINOSITY')\n",
            "('0.02 mag', 'LUMINOSITY')\n",
            "('0.034 mag', 'LUMINOSITY')\n",
            "('0.04 mag', 'LUMINOSITY')\n",
            "('0.1 mag', 'LUMINOSITY')\n",
            "('0.15 mag', 'LUMINOSITY')\n",
            "('0.3 mag', 'LUMINOSITY')\n",
            "('0.05 mag', 'LUMINOSITY')\n",
            "('17.9 mag', 'LUMINOSITY')\n",
            "('0.020 mag', 'LUMINOSITY')\n",
            "('SN2002cx', 'SUPERNOVA_NAME')\n",
            "('19.0 mag', 'LUMINOSITY')\n",
            "('Type Ia', 'SUPERNOVA_TYPE')\n",
            "('1.90 mag', 'LUMINOSITY')\n",
            "('1.9 mag', 'LUMINOSITY')\n",
            "('1.0 mag', 'LUMINOSITY')\n",
            "('0.09 mag', 'LUMINOSITY')\n",
            "('0.015 mag', 'LUMINOSITY')\n",
            "('0.01 mag', 'LUMINOSITY')\n",
            "('33.46 mag', 'LUMINOSITY')\n",
            "('1.47 mag', 'LUMINOSITY')\n",
            "('1.3 mag', 'LUMINOSITY')\n",
            "('0.027 mag', 'LUMINOSITY')\n",
            "('3.5 mag', 'LUMINOSITY')\n",
            "('18.91 mag', 'LUMINOSITY')\n",
            "('0.5 mag', 'LUMINOSITY')\n",
            "('1.82 mag', 'LUMINOSITY')\n",
            "('UGC 272', 'HOST_GALAXY')\n",
            "('1.56 mag', 'LUMINOSITY')\n",
            "('SN1987A', 'SUPERNOVA_NAME')\n",
            "('0.2 mag', 'LUMINOSITY')\n",
            "('0.002 mag', 'LUMINOSITY')\n",
            "('0.8 mag', 'LUMINOSITY')\n",
            "('0.03 mag', 'LUMINOSITY')\n",
            "('268.5 Mpc', 'DISTANCE')\n",
            "('1.7 mag', 'LUMINOSITY')\n",
            "('0.12 mag', 'LUMINOSITY')\n",
            "('Type Ic', 'SUPERNOVA_TYPE')\n",
            "('0.02 mag', 'LUMINOSITY')\n",
            "('0.1 mag', 'LUMINOSITY')\n",
            "('0.15 mag', 'LUMINOSITY')\n",
            "('0.013 mag', 'LUMINOSITY')\n",
            "('0.05 mag', 'LUMINOSITY')\n",
            "('1.5 mag', 'LUMINOSITY')\n",
            "('0.011 mag', 'LUMINOSITY')\n",
            "('0.14 mag', 'LUMINOSITY')\n",
            "('0.6 mag', 'LUMINOSITY')\n",
            "('0.014 mag', 'LUMINOSITY')\n",
            "('20.3 mag', 'LUMINOSITY')\n",
            "('1.4 mag', 'LUMINOSITY')\n",
            "('0.16 mag', 'LUMINOSITY')\n",
            "('Type Ia', 'SUPERNOVA_TYPE')\n",
            "('0.001 mag', 'LUMINOSITY')\n",
            "('37.15 mag', 'LUMINOSITY')\n",
            "('0.044 mag', 'LUMINOSITY')\n",
            "('1.0 mag', 'LUMINOSITY')\n",
            "('0.015 mag', 'LUMINOSITY')\n",
            "('0.4 mag', 'LUMINOSITY')\n",
            "('0.5 mag', 'LUMINOSITY')\n",
            "('0.008 mag', 'LUMINOSITY')\n",
            "('Type Ib', 'SUPERNOVA_TYPE')\n",
            "('Type Ia', 'SUPERNOVA_TYPE')\n",
            "('0.15 mag', 'LUMINOSITY')\n",
            "('0.015 mag', 'LUMINOSITY')\n",
            "('Type Ia', 'SUPERNOVA_TYPE')\n",
            "('0.2 mag', 'LUMINOSITY')\n",
            "('SN2005hk', 'SUPERNOVA_NAME')\n",
            "('0.24 mag', 'LUMINOSITY')\n",
            "('0.1 mag', 'LUMINOSITY')\n",
            "('0.3 mag', 'LUMINOSITY')\n",
            "('22.2 mag', 'LUMINOSITY')\n",
            "('0.14 mag', 'LUMINOSITY')\n",
            "('0.53 mag', 'LUMINOSITY')\n",
            "('0.11 mag', 'LUMINOSITY')\n",
            "('0.16 mag', 'LUMINOSITY')\n",
            "('Type Ia', 'SUPERNOVA_TYPE')\n",
            "('SN2005gj', 'SUPERNOVA_NAME')\n",
            "('4.52 mag', 'LUMINOSITY')\n",
            "('0.07 mag', 'LUMINOSITY')\n",
            "('21.5 mag', 'LUMINOSITY')\n",
            "('1.10 mag', 'LUMINOSITY')\n",
            "('0.20 mag', 'LUMINOSITY')\n",
            "('0.10 mag', 'LUMINOSITY')\n",
            "('SN2005eq', 'SUPERNOVA_NAME')\n",
            "('SN2005jm', 'SUPERNOVA_NAME')\n",
            "('SN2003km', 'SUPERNOVA_NAME')\n",
            "('SN2005hx', 'SUPERNOVA_NAME')\n",
            "('0.9 mag', 'LUMINOSITY')\n",
            "('0.03 mag', 'LUMINOSITY')\n",
            "('0.08 mag', 'LUMINOSITY')\n",
            "('SN2005jo', 'SUPERNOVA_NAME')\n",
            "('SN2005ag', 'SUPERNOVA_NAME')\n",
            "('SN2005gh', 'SUPERNOVA_NAME')\n",
            "('SN2005iq', 'SUPERNOVA_NAME')\n",
            "('SN2005na', 'SUPERNOVA_NAME')\n",
            "('SN2003jy', 'SUPERNOVA_NAME')\n",
            "('0.12 mag', 'LUMINOSITY')\n",
            "('0.009 mag', 'LUMINOSITY')\n",
            "('SN2205gy', 'SUPERNOVA_NAME')\n",
            "('SN2006bh', 'SUPERNOVA_NAME')\n",
            "('0.02 mag', 'LUMINOSITY')\n",
            "('SN2005hc', 'SUPERNOVA_NAME')\n",
            "('0.1 mag', 'LUMINOSITY')\n",
            "('0.04 mag', 'LUMINOSITY')\n",
            "('0.3 mag', 'LUMINOSITY')\n",
            "('0.15 mag', 'LUMINOSITY')\n",
            "('SN2005el', 'SUPERNOVA_NAME')\n",
            "('SN2003', 'SUPERNOVA_NAME')\n",
            "('0.013 mag', 'LUMINOSITY')\n",
            "('SN2005al', 'SUPERNOVA_NAME')\n",
            "('SN2005gq', 'SUPERNOVA_NAME')\n",
            "('0.05 mag', 'LUMINOSITY')\n",
            "('SN2005ik', 'SUPERNOVA_NAME')\n",
            "('SN2004ey', 'SUPERNOVA_NAME')\n",
            "('SN2005ki', 'SUPERNOVA_NAME')\n",
            "('0.023 mag', 'LUMINOSITY')\n",
            "('Type Ia', 'SUPERNOVA_TYPE')\n",
            "('SN2005M', 'SUPERNOVA_NAME')\n",
            "('SN2006gt', 'SUPERNOVA_NAME')\n",
            "('SN2004eo', 'SUPERNOVA_NAME')\n",
            "('SN2004ef', 'SUPERNOVA_NAME')\n",
            "('SN2006ax', 'SUPERNOVA_NAME')\n",
            "('0.001 mag', 'LUMINOSITY')\n",
            "('0.09 mag', 'LUMINOSITY')\n",
            "('SN2004gu', 'SUPERNOVA_NAME')\n",
            "('SN2005ir', 'SUPERNOVA_NAME')\n",
            "('SN2004gs', 'SUPERNOVA_NAME')\n",
            "('0.01 mag', 'LUMINOSITY')\n",
            "('z=0.6', 'REDSHIFT')\n",
            "('SN2005kc', 'SUPERNOVA_NAME')\n",
            "('0.29 mag', 'LUMINOSITY')\n",
            "('0.13 mag', 'LUMINOSITY')\n",
            "('SN2006py', 'SUPERNOVA_NAME')\n",
            "('0.5 mag', 'LUMINOSITY')\n",
            "('0.025 mag', 'LUMINOSITY')\n",
            "('0.19 mag', 'LUMINOSITY')\n",
            "('0.10 mag', 'LUMINOSITY')\n",
            "('SN2005hj', 'SUPERNOVA_NAME')\n",
            "('SN2005ge', 'SUPERNOVA_NAME')\n",
            "('0.016 mag', 'LUMINOSITY')\n",
            "('Type Ia', 'SUPERNOVA_TYPE')\n",
            "('0.01 mag', 'LUMINOSITY')\n",
            "('SN2005hk', 'SUPERNOVA_NAME')\n",
            "('0.2 mag', 'LUMINOSITY')\n",
            "('0.9 mag', 'LUMINOSITY')\n",
            "('0.03 mag', 'LUMINOSITY')\n",
            "('0.21 mag', 'LUMINOSITY')\n",
            "('2.5 mag', 'LUMINOSITY')\n",
            "('0.02 mag', 'LUMINOSITY')\n",
            "('0.05 mag', 'LUMINOSITY')\n",
            "('0.53 mag', 'LUMINOSITY')\n",
            "('0.16 mag', 'LUMINOSITY')\n",
            "('Type Ia', 'SUPERNOVA_TYPE')\n",
            "('0.67 mag', 'LUMINOSITY')\n",
            "('0.38 mag', 'LUMINOSITY')\n",
            "('0.80 mag', 'LUMINOSITY')\n",
            "('0.01 mag', 'LUMINOSITY')\n",
            "('0.22 mag', 'LUMINOSITY')\n",
            "('0.29 mag', 'LUMINOSITY')\n",
            "('0.20 mag', 'LUMINOSITY')\n",
            "('0.008 mag', 'LUMINOSITY')\n",
            "('0.32 mag', 'LUMINOSITY')\n",
            "('SN2017egm', 'SUPERNOVA_NAME')\n",
            "('NGC 3191', 'HOST_GALAXY')\n",
            "('23.5 mag', 'LUMINOSITY')\n",
            "('Type Ic', 'SUPERNOVA_TYPE')\n",
            "('NGC 1260', 'HOST_GALAXY')\n",
            "('Type Ia', 'SUPERNOVA_TYPE')\n",
            "('Type I', 'SUPERNOVA_TYPE')\n",
            "('Type Ib', 'SUPERNOVA_TYPE')\n",
            "('0.5 mag', 'LUMINOSITY')\n",
            "('20.7 mag', 'LUMINOSITY')\n",
            "('3.5 Mpc', 'DISTANCE')\n",
            "('SN2007on', 'SUPERNOVA_NAME')\n",
            "('Type I', 'SUPERNOVA_TYPE')\n",
            "('Type Ia', 'SUPERNOVA_TYPE')\n",
            "('0.2 mag', 'LUMINOSITY')\n",
            "('22.5 mag', 'LUMINOSITY')\n",
            "('1.5 Mpc', 'DISTANCE')\n",
            "('3.05 mag', 'LUMINOSITY')\n",
            "('31.5 mag', 'LUMINOSITY')\n",
            "('Type Ib', 'SUPERNOVA_TYPE')\n",
            "('3.12 mag', 'LUMINOSITY')\n",
            "('0.073 mag', 'LUMINOSITY')\n",
            "('31.3 mag', 'LUMINOSITY')\n",
            "('z=0.004923', 'REDSHIFT')\n",
            "('20.6 Mpc', 'DISTANCE')\n",
            "('0.2 mag', 'LUMINOSITY')\n",
            "('1.6 mag', 'LUMINOSITY')\n",
            "('NGC 2997', 'HOST_GALAXY')\n",
            "('NGC 1566', 'HOST_GALAXY')\n",
            "('0.03 mag', 'LUMINOSITY')\n",
            "('19.3 mag', 'LUMINOSITY')\n",
            "('1.7 mag', 'LUMINOSITY')\n",
            "('1.2 mag', 'LUMINOSITY')\n",
            "('0.12 mag', 'LUMINOSITY')\n",
            "('NGC 247', 'HOST_GALAXY')\n",
            "('NGC 300', 'HOST_GALAXY')\n",
            "('NGC 3717', 'HOST_GALAXY')\n",
            "('NGC 988', 'HOST_GALAXY')\n",
            "('0.1 mag', 'LUMINOSITY')\n",
            "('NGC 3923', 'HOST_GALAXY')\n",
            "('0.3 mag', 'LUMINOSITY')\n",
            "('0.28 mag', 'LUMINOSITY')\n",
            "('0.05 mag', 'LUMINOSITY')\n",
            "('1.5 mag', 'LUMINOSITY')\n",
            "('0.14 mag', 'LUMINOSITY')\n",
            "('0.45 mag', 'LUMINOSITY')\n",
            "('0.16 mag', 'LUMINOSITY')\n",
            "('Type Ia', 'SUPERNOVA_TYPE')\n",
            "('NGC 1553', 'HOST_GALAXY')\n",
            "('1.0 mag', 'LUMINOSITY')\n",
            "('0.01 mag', 'LUMINOSITY')\n",
            "('NGC 59', 'HOST_GALAXY')\n",
            "('0.07 mag', 'LUMINOSITY')\n",
            "('NGC 2923', 'HOST_GALAXY')\n",
            "('0.13 mag', 'LUMINOSITY')\n",
            "('8.8 mag', 'LUMINOSITY')\n",
            "('0.5 mag', 'LUMINOSITY')\n",
            "('NGC 3511', 'HOST_GALAXY')\n",
            "('1.50 mag', 'LUMINOSITY')\n",
            "('1.8 mag', 'LUMINOSITY')\n",
            "('NGC 2292', 'HOST_GALAXY')\n",
            "('0.06 mag', 'LUMINOSITY')\n",
            "('0.2 mag', 'LUMINOSITY')\n",
            "('0.25 mag', 'LUMINOSITY')\n",
            "('z=0.01', 'REDSHIFT')\n",
            "('0.03 mag', 'LUMINOSITY')\n",
            "('NGC 5253', 'HOST_GALAXY')\n",
            "('-0.6 mag', 'LUMINOSITY')\n",
            "('0.0 mag', 'LUMINOSITY')\n",
            "('z=0.97', 'REDSHIFT')\n",
            "('0.23 mag', 'LUMINOSITY')\n",
            "('22.5 mag', 'LUMINOSITY')\n",
            "('0.21 mag', 'LUMINOSITY')\n",
            "('z=0.30', 'REDSHIFT')\n",
            "('Type Ic', 'SUPERNOVA_TYPE')\n",
            "('0.17 mag', 'LUMINOSITY')\n",
            "('0.02 mag', 'LUMINOSITY')\n",
            "('0.1 mag', 'LUMINOSITY')\n",
            "('0.42 mag', 'LUMINOSITY')\n",
            "('z=0.09', 'REDSHIFT')\n",
            "('0.15 mag', 'LUMINOSITY')\n",
            "('0.28 mag', 'LUMINOSITY')\n",
            "('18.50 mag', 'LUMINOSITY')\n",
            "('0.3 mag', 'LUMINOSITY')\n",
            "('z=0.45', 'REDSHIFT')\n",
            "('0.05 mag', 'LUMINOSITY')\n",
            "('1.5 mag', 'LUMINOSITY')\n",
            "('0.6 mag', 'LUMINOSITY')\n",
            "('0.40 mag', 'LUMINOSITY')\n",
            "('Type Ia', 'SUPERNOVA_TYPE')\n",
            "('z=0.36', 'REDSHIFT')\n",
            "('19.5 mag', 'LUMINOSITY')\n",
            "('z=0.49', 'REDSHIFT')\n",
            "('0.01 mag', 'LUMINOSITY')\n",
            "('Type I', 'SUPERNOVA_TYPE')\n",
            "('0.07 mag', 'LUMINOSITY')\n",
            "('Type Ib', 'SUPERNOVA_TYPE')\n",
            "('0.4 mag', 'LUMINOSITY')\n"
          ]
        }
      ]
    },
    {
      "cell_type": "code",
      "source": [
        "import numpy as np\n",
        "import pandas as pd\n",
        "import matplotlib.pyplot as plt\n",
        "from sklearn.metrics import classification_report, accuracy_score\n",
        "from sklearn.utils.class_weight import compute_class_weight\n",
        "from tensorflow.keras.preprocessing.text import Tokenizer\n",
        "from tensorflow.keras.preprocessing.sequence import pad_sequences\n",
        "from tensorflow.keras.models import Model\n",
        "from tensorflow.keras.layers import Input, LSTM, Embedding, Dense, TimeDistributed, Dropout, Bidirectional\n",
        "from tensorflow.keras.utils import to_categorical\n",
        "from tensorflow.keras.optimizers import Adam\n",
        "from tensorflow.keras.callbacks import LearningRateScheduler, EarlyStopping\n",
        "from tensorflow.keras.regularizers import l2\n",
        "import tensorflow as tf\n",
        "from transformers import BertTokenizer, TFBertForTokenClassification"
      ],
      "metadata": {
        "id": "-rq1ZfBWJUWO"
      },
      "execution_count": null,
      "outputs": []
    },
    {
      "cell_type": "markdown",
      "source": [
        "PREPARING DATA FOR THE MODELS BY ENCODING AND CHANGING THE ANNOTATIONS TO A DATAFRAME"
      ],
      "metadata": {
        "id": "HghGwD1X3if3"
      }
    },
    {
      "cell_type": "code",
      "source": [
        "def prepare_data(annotations):\n",
        "    # Convert annotations to DataFrame\n",
        "    df = pd.DataFrame(annotations, columns=['word', 'label'])\n",
        "\n",
        "    # Create label encoding\n",
        "    label_encoding = {label: i for i, label in enumerate(df['label'].unique())}\n",
        "    df['label_id'] = df['label'].map(label_encoding)\n",
        "\n",
        "    return df, label_encoding"
      ],
      "metadata": {
        "id": "evoVPSkUHNQH"
      },
      "execution_count": null,
      "outputs": []
    },
    {
      "cell_type": "markdown",
      "source": [
        "PREPARING DATA FOR BI-LSTM"
      ],
      "metadata": {
        "id": "3rizS4Sj3l1K"
      }
    },
    {
      "cell_type": "code",
      "source": [
        "def prepare_lstm_data(df):\n",
        "    # Tokenize words\n",
        "    tokenizer = Tokenizer(oov_token=\"<OOV>\")\n",
        "    tokenizer.fit_on_texts(df['word'])\n",
        "    word_index = tokenizer.word_index\n",
        "\n",
        "    # Convert words to sequences\n",
        "    X = tokenizer.texts_to_sequences(df['word'])\n",
        "    X = pad_sequences(X, padding='post', maxlen=1)  # Each word is a separate sample\n",
        "\n",
        "    # Prepare labels\n",
        "    y = to_categorical(df['label_id'])\n",
        "\n",
        "    return X, y, word_index"
      ],
      "metadata": {
        "id": "bUuLQiLEJN9L"
      },
      "execution_count": null,
      "outputs": []
    },
    {
      "cell_type": "markdown",
      "source": [
        "PREPARING DATA FOR BERT"
      ],
      "metadata": {
        "id": "S1g4UZSB3vb4"
      }
    },
    {
      "cell_type": "code",
      "source": [
        "def prepare_bert_data(df, label_encoding):\n",
        "    tokenizer = BertTokenizer.from_pretrained('bert-base-uncased')\n",
        "\n",
        "\n",
        "    input_ids = []\n",
        "    labels = []\n",
        "\n",
        "    for _, row in df.iterrows():\n",
        "        word_tokens = tokenizer.encode(row['word'], add_special_tokens=False)\n",
        "        input_ids.extend(word_tokens)\n",
        "        labels.extend([row['label_id']] * len(word_tokens))\n",
        "\n",
        "\n",
        "    max_length = 128\n",
        "    input_ids = input_ids[:max_length] + [0] * (max_length - len(input_ids))\n",
        "    labels = labels[:max_length] + [-100] * (max_length - len(labels))\n",
        "\n",
        "    attention_mask = [1 if id != 0 else 0 for id in input_ids]\n",
        "\n",
        "    return {\n",
        "        'input_ids': tf.constant([input_ids]),\n",
        "        'attention_mask': tf.constant([attention_mask])\n",
        "    }, tf.constant([labels])"
      ],
      "metadata": {
        "id": "CixqJCfBjh3M"
      },
      "execution_count": null,
      "outputs": []
    },
    {
      "cell_type": "markdown",
      "source": [
        "CREATING LSTM MODEL"
      ],
      "metadata": {
        "id": "-Y6D5e-C3xoT"
      }
    },
    {
      "cell_type": "code",
      "source": [
        "def create_lstm_model(vocab_size, embedding_dim, input_length, num_classes):\n",
        "    model = Sequential([\n",
        "        Embedding(vocab_size, embedding_dim, input_length=input_length),\n",
        "        Bidirectional(LSTM(64)),\n",
        "        Dropout(0.2),\n",
        "        Dense(num_classes, activation=\"softmax\")\n",
        "    ])\n",
        "    return model"
      ],
      "metadata": {
        "id": "dT2jYFFaJQgZ"
      },
      "execution_count": null,
      "outputs": []
    },
    {
      "cell_type": "markdown",
      "source": [
        "TRAINING LSTM MODEL"
      ],
      "metadata": {
        "id": "0ODmTFH43z3n"
      }
    },
    {
      "cell_type": "code",
      "source": [
        "def train_evaluate_lstm(X, y, vocab_size, num_classes):\n",
        "    model = create_lstm_model(vocab_size, 100, X.shape[1], num_classes)\n",
        "\n",
        "    optimizer = Adam(learning_rate=1e-3)\n",
        "    model.compile(optimizer=optimizer, loss=\"categorical_crossentropy\", metrics=[\"accuracy\"])\n",
        "\n",
        "    history = model.fit(X, y, batch_size=32, epochs=50, validation_split=0.2, verbose=1)\n",
        "\n",
        "    y_pred = model.predict(X)\n",
        "    y_pred = np.argmax(y_pred, axis=-1)\n",
        "    y_true = np.argmax(y, axis=-1)\n",
        "\n",
        "    report = classification_report(y_true, y_pred)\n",
        "    accuracy = accuracy_score(y_true, y_pred)\n",
        "\n",
        "    return model, history, report, accuracy"
      ],
      "metadata": {
        "id": "XiTdynDsJaxU"
      },
      "execution_count": null,
      "outputs": []
    },
    {
      "cell_type": "markdown",
      "source": [
        "TRAINING BERT MODEL"
      ],
      "metadata": {
        "id": "ep6ogK-F33Id"
      }
    },
    {
      "cell_type": "code",
      "source": [
        "def train_evaluate_bert(encodings, labels, label_encoding):\n",
        "    model = TFBertForTokenClassification.from_pretrained('bert-base-uncased', num_labels=len(label_encoding))\n",
        "\n",
        "    loss = tf.keras.losses.SparseCategoricalCrossentropy(from_logits=True)\n",
        "\n",
        "    model.compile(optimizer='adam', loss=loss, metrics=['accuracy'])\n",
        "\n",
        "    history = model.fit(encodings, labels, epochs=10, batch_size=16, verbose=1)\n",
        "\n",
        "    predictions = model.predict(encodings)\n",
        "    pred_labels = np.argmax(predictions.logits, axis=-1)\n",
        "\n",
        "    true_labels = labels.numpy()[0]\n",
        "    pred_labels = pred_labels[0]\n",
        "\n",
        "\n",
        "    mask = true_labels != -100\n",
        "    true_labels = true_labels[mask]\n",
        "    pred_labels = pred_labels[mask]\n",
        "\n",
        "    report = classification_report(true_labels, pred_labels)\n",
        "    accuracy = accuracy_score(true_labels, pred_labels)\n",
        "\n",
        "    return history, report, accuracy"
      ],
      "metadata": {
        "id": "lkrxiCThJeCF"
      },
      "execution_count": null,
      "outputs": []
    },
    {
      "cell_type": "markdown",
      "source": [
        "EVALUATING METRICS FOR BOTH MODELS"
      ],
      "metadata": {
        "id": "_rB0eokH358s"
      }
    },
    {
      "cell_type": "code",
      "source": [
        "def visualize_metrics(lstm_history, bert_history):\n",
        "    plt.figure(figsize=(12, 4))\n",
        "\n",
        "    plt.subplot(1, 2, 1)\n",
        "    plt.plot(lstm_history.history['accuracy'], label='LSTM Training Accuracy')\n",
        "    plt.plot(lstm_history.history['val_accuracy'], label='LSTM Validation Accuracy')\n",
        "    plt.plot(bert_history.history['accuracy'], label='BERT Training Accuracy')\n",
        "    plt.title('Model Accuracy')\n",
        "    plt.xlabel('Epoch')\n",
        "    plt.ylabel('Accuracy')\n",
        "    plt.legend()\n",
        "\n",
        "    plt.subplot(1, 2, 2)\n",
        "    plt.plot(lstm_history.history['loss'], label='LSTM Training Loss')\n",
        "    plt.plot(lstm_history.history['val_loss'], label='LSTM Validation Loss')\n",
        "    plt.plot(bert_history.history['loss'], label='BERT Training Loss')\n",
        "    plt.title('Model Loss')\n",
        "    plt.xlabel('Epoch')\n",
        "    plt.ylabel('Loss')\n",
        "    plt.legend()\n",
        "\n",
        "    plt.tight_layout()\n",
        "    plt.show()"
      ],
      "metadata": {
        "id": "ppR94frHJhJz"
      },
      "execution_count": null,
      "outputs": []
    },
    {
      "cell_type": "markdown",
      "source": [
        "EXTRACTING ENTITIES FROM NEW PDF FOR LSTM"
      ],
      "metadata": {
        "id": "P5mvKW__3_lL"
      }
    },
    {
      "cell_type": "code",
      "source": [
        "def extract_entities_lstm(text, model, tokenizer, label_encoding):\n",
        "    words = text.split()\n",
        "    X = tokenizer.texts_to_sequences(words)\n",
        "    X = pad_sequences(X, padding='post', maxlen=1)\n",
        "    predictions = model.predict(X)\n",
        "    pred_labels = np.argmax(predictions, axis=-1)\n",
        "\n",
        "    entities = []\n",
        "    current_entity = None\n",
        "    reverse_label_encoding = {v: k for k, v in label_encoding.items()}\n",
        "\n",
        "    for word, label_id in zip(words, pred_labels):\n",
        "        if label_id != 0:\n",
        "            label = reverse_label_encoding[label_id]\n",
        "            if current_entity is None:\n",
        "                current_entity = {'text': word, 'label': label}\n",
        "            elif label == current_entity['label']:\n",
        "                current_entity['text'] += ' ' + word\n",
        "            else:\n",
        "                entities.append(current_entity)\n",
        "                current_entity = {'text': word, 'label': label}\n",
        "        elif current_entity is not None:\n",
        "            entities.append(current_entity)\n",
        "            current_entity = None\n",
        "\n",
        "    if current_entity is not None:\n",
        "        entities.append(current_entity)\n",
        "\n",
        "    return entities"
      ],
      "metadata": {
        "id": "nme2v8m5q65X"
      },
      "execution_count": null,
      "outputs": []
    },
    {
      "cell_type": "markdown",
      "source": [
        "EXTRACTING ENTITIES FROM NEW PDF FOR BERT"
      ],
      "metadata": {
        "id": "a6L6Rioo4Er8"
      }
    },
    {
      "cell_type": "code",
      "source": [
        "def extract_entities_bert(text, model, tokenizer, label_encoding):\n",
        "    inputs = tokenizer(text, return_tensors=\"tf\", truncation=True, padding=True)\n",
        "    outputs = model(inputs)\n",
        "    predictions = tf.argmax(outputs.logits, axis=-1)\n",
        "    tokens = tokenizer.convert_ids_to_tokens(inputs[\"input_ids\"][0])\n",
        "\n",
        "    entities = []\n",
        "    current_entity = None\n",
        "    reverse_label_encoding = {v: k for k, v in label_encoding.items()}\n",
        "\n",
        "    for token, label_id in zip(tokens, predictions[0]):\n",
        "        if token.startswith(\"##\"):\n",
        "            if current_entity:\n",
        "                current_entity['text'] += token[2:]\n",
        "        else:\n",
        "            if current_entity:\n",
        "                entities.append(current_entity)\n",
        "                current_entity = None\n",
        "\n",
        "            if label_id != 0:\n",
        "                label = reverse_label_encoding[label_id.numpy()]\n",
        "                current_entity = {'text': token, 'label': label}\n",
        "\n",
        "    if current_entity:\n",
        "        entities.append(current_entity)\n",
        "\n",
        "    return entities"
      ],
      "metadata": {
        "id": "5Deu3VTeq7rA"
      },
      "execution_count": null,
      "outputs": []
    },
    {
      "cell_type": "markdown",
      "source": [
        "MAIN EXECUTION"
      ],
      "metadata": {
        "id": "jb8WSeRi4GOm"
      }
    },
    {
      "cell_type": "code",
      "source": [
        "df, label_encoding = prepare_data(valid_annotations)"
      ],
      "metadata": {
        "id": "MCVDSjrXhSvJ"
      },
      "execution_count": null,
      "outputs": []
    },
    {
      "cell_type": "code",
      "source": [
        "# LSTM\n",
        "X, y, word_index = prepare_lstm_data(df)\n",
        "lstm_model, lstm_history, lstm_report, lstm_accuracy = train_evaluate_lstm(X, y, len(word_index) + 1, len(label_encoding))\n"
      ],
      "metadata": {
        "colab": {
          "base_uri": "https://localhost:8080/"
        },
        "id": "E7OsLBSTJkZQ",
        "outputId": "e51b06a3-5fb7-4edc-a6be-3373c767c06e"
      },
      "execution_count": null,
      "outputs": [
        {
          "output_type": "stream",
          "name": "stdout",
          "text": [
            "Epoch 1/50\n",
            "\u001b[1m8/8\u001b[0m \u001b[32m━━━━━━━━━━━━━━━━━━━━\u001b[0m\u001b[37m\u001b[0m \u001b[1m3s\u001b[0m 53ms/step - accuracy: 0.5613 - loss: 1.7668 - val_accuracy: 0.6885 - val_loss: 1.6764\n",
            "Epoch 2/50\n",
            "\u001b[1m8/8\u001b[0m \u001b[32m━━━━━━━━━━━━━━━━━━━━\u001b[0m\u001b[37m\u001b[0m \u001b[1m0s\u001b[0m 11ms/step - accuracy: 0.6405 - loss: 1.6435 - val_accuracy: 0.6885 - val_loss: 1.4559\n",
            "Epoch 3/50\n",
            "\u001b[1m8/8\u001b[0m \u001b[32m━━━━━━━━━━━━━━━━━━━━\u001b[0m\u001b[37m\u001b[0m \u001b[1m0s\u001b[0m 8ms/step - accuracy: 0.6682 - loss: 1.4096 - val_accuracy: 0.7213 - val_loss: 1.0552\n",
            "Epoch 4/50\n",
            "\u001b[1m8/8\u001b[0m \u001b[32m━━━━━━━━━━━━━━━━━━━━\u001b[0m\u001b[37m\u001b[0m \u001b[1m0s\u001b[0m 9ms/step - accuracy: 0.6945 - loss: 1.0257 - val_accuracy: 0.7213 - val_loss: 0.6781\n",
            "Epoch 5/50\n",
            "\u001b[1m8/8\u001b[0m \u001b[32m━━━━━━━━━━━━━━━━━━━━\u001b[0m\u001b[37m\u001b[0m \u001b[1m0s\u001b[0m 9ms/step - accuracy: 0.7487 - loss: 0.7127 - val_accuracy: 0.7213 - val_loss: 0.5806\n",
            "Epoch 6/50\n",
            "\u001b[1m8/8\u001b[0m \u001b[32m━━━━━━━━━━━━━━━━━━━━\u001b[0m\u001b[37m\u001b[0m \u001b[1m0s\u001b[0m 8ms/step - accuracy: 0.8830 - loss: 0.6208 - val_accuracy: 0.7213 - val_loss: 0.5675\n",
            "Epoch 7/50\n",
            "\u001b[1m8/8\u001b[0m \u001b[32m━━━━━━━━━━━━━━━━━━━━\u001b[0m\u001b[37m\u001b[0m \u001b[1m0s\u001b[0m 10ms/step - accuracy: 0.8986 - loss: 0.7068 - val_accuracy: 0.7213 - val_loss: 0.5624\n",
            "Epoch 8/50\n",
            "\u001b[1m8/8\u001b[0m \u001b[32m━━━━━━━━━━━━━━━━━━━━\u001b[0m\u001b[37m\u001b[0m \u001b[1m0s\u001b[0m 9ms/step - accuracy: 0.8961 - loss: 0.6890 - val_accuracy: 0.7541 - val_loss: 0.5572\n",
            "Epoch 9/50\n",
            "\u001b[1m8/8\u001b[0m \u001b[32m━━━━━━━━━━━━━━━━━━━━\u001b[0m\u001b[37m\u001b[0m \u001b[1m0s\u001b[0m 10ms/step - accuracy: 0.9425 - loss: 0.5425 - val_accuracy: 0.7705 - val_loss: 0.5511\n",
            "Epoch 10/50\n",
            "\u001b[1m8/8\u001b[0m \u001b[32m━━━━━━━━━━━━━━━━━━━━\u001b[0m\u001b[37m\u001b[0m \u001b[1m0s\u001b[0m 9ms/step - accuracy: 0.9408 - loss: 0.6227 - val_accuracy: 0.7705 - val_loss: 0.5429\n",
            "Epoch 11/50\n",
            "\u001b[1m8/8\u001b[0m \u001b[32m━━━━━━━━━━━━━━━━━━━━\u001b[0m\u001b[37m\u001b[0m \u001b[1m0s\u001b[0m 10ms/step - accuracy: 0.9423 - loss: 0.4893 - val_accuracy: 0.7705 - val_loss: 0.5340\n",
            "Epoch 12/50\n",
            "\u001b[1m8/8\u001b[0m \u001b[32m━━━━━━━━━━━━━━━━━━━━\u001b[0m\u001b[37m\u001b[0m \u001b[1m0s\u001b[0m 9ms/step - accuracy: 0.9343 - loss: 0.4699 - val_accuracy: 0.7705 - val_loss: 0.5226\n",
            "Epoch 13/50\n",
            "\u001b[1m8/8\u001b[0m \u001b[32m━━━━━━━━━━━━━━━━━━━━\u001b[0m\u001b[37m\u001b[0m \u001b[1m0s\u001b[0m 9ms/step - accuracy: 0.9466 - loss: 0.4190 - val_accuracy: 0.7705 - val_loss: 0.5114\n",
            "Epoch 14/50\n",
            "\u001b[1m8/8\u001b[0m \u001b[32m━━━━━━━━━━━━━━━━━━━━\u001b[0m\u001b[37m\u001b[0m \u001b[1m0s\u001b[0m 8ms/step - accuracy: 0.9413 - loss: 0.3938 - val_accuracy: 0.7705 - val_loss: 0.4993\n",
            "Epoch 15/50\n",
            "\u001b[1m8/8\u001b[0m \u001b[32m━━━━━━━━━━━━━━━━━━━━\u001b[0m\u001b[37m\u001b[0m \u001b[1m0s\u001b[0m 11ms/step - accuracy: 0.9283 - loss: 0.3448 - val_accuracy: 0.7705 - val_loss: 0.4899\n",
            "Epoch 16/50\n",
            "\u001b[1m8/8\u001b[0m \u001b[32m━━━━━━━━━━━━━━━━━━━━\u001b[0m\u001b[37m\u001b[0m \u001b[1m0s\u001b[0m 9ms/step - accuracy: 0.9348 - loss: 0.2851 - val_accuracy: 0.7705 - val_loss: 0.4829\n",
            "Epoch 17/50\n",
            "\u001b[1m8/8\u001b[0m \u001b[32m━━━━━━━━━━━━━━━━━━━━\u001b[0m\u001b[37m\u001b[0m \u001b[1m0s\u001b[0m 11ms/step - accuracy: 0.9279 - loss: 0.2681 - val_accuracy: 0.7705 - val_loss: 0.4785\n",
            "Epoch 18/50\n",
            "\u001b[1m8/8\u001b[0m \u001b[32m━━━━━━━━━━━━━━━━━━━━\u001b[0m\u001b[37m\u001b[0m \u001b[1m0s\u001b[0m 9ms/step - accuracy: 0.9557 - loss: 0.1858 - val_accuracy: 0.7705 - val_loss: 0.4753\n",
            "Epoch 19/50\n",
            "\u001b[1m8/8\u001b[0m \u001b[32m━━━━━━━━━━━━━━━━━━━━\u001b[0m\u001b[37m\u001b[0m \u001b[1m0s\u001b[0m 9ms/step - accuracy: 0.9772 - loss: 0.1733 - val_accuracy: 0.7705 - val_loss: 0.4730\n",
            "Epoch 20/50\n",
            "\u001b[1m8/8\u001b[0m \u001b[32m━━━━━━━━━━━━━━━━━━━━\u001b[0m\u001b[37m\u001b[0m \u001b[1m0s\u001b[0m 9ms/step - accuracy: 0.9888 - loss: 0.1397 - val_accuracy: 0.7705 - val_loss: 0.4715\n",
            "Epoch 21/50\n",
            "\u001b[1m8/8\u001b[0m \u001b[32m━━━━━━━━━━━━━━━━━━━━\u001b[0m\u001b[37m\u001b[0m \u001b[1m0s\u001b[0m 9ms/step - accuracy: 0.9836 - loss: 0.1249 - val_accuracy: 0.7705 - val_loss: 0.4701\n",
            "Epoch 22/50\n",
            "\u001b[1m8/8\u001b[0m \u001b[32m━━━━━━━━━━━━━━━━━━━━\u001b[0m\u001b[37m\u001b[0m \u001b[1m0s\u001b[0m 9ms/step - accuracy: 0.9916 - loss: 0.0911 - val_accuracy: 0.7705 - val_loss: 0.4689\n",
            "Epoch 23/50\n",
            "\u001b[1m8/8\u001b[0m \u001b[32m━━━━━━━━━━━━━━━━━━━━\u001b[0m\u001b[37m\u001b[0m \u001b[1m0s\u001b[0m 9ms/step - accuracy: 0.9964 - loss: 0.0992 - val_accuracy: 0.7705 - val_loss: 0.4677\n",
            "Epoch 24/50\n",
            "\u001b[1m8/8\u001b[0m \u001b[32m━━━━━━━━━━━━━━━━━━━━\u001b[0m\u001b[37m\u001b[0m \u001b[1m0s\u001b[0m 8ms/step - accuracy: 0.9917 - loss: 0.0827 - val_accuracy: 0.7705 - val_loss: 0.4667\n",
            "Epoch 25/50\n",
            "\u001b[1m8/8\u001b[0m \u001b[32m━━━━━━━━━━━━━━━━━━━━\u001b[0m\u001b[37m\u001b[0m \u001b[1m0s\u001b[0m 9ms/step - accuracy: 0.9964 - loss: 0.0785 - val_accuracy: 0.7705 - val_loss: 0.4657\n",
            "Epoch 26/50\n",
            "\u001b[1m8/8\u001b[0m \u001b[32m━━━━━━━━━━━━━━━━━━━━\u001b[0m\u001b[37m\u001b[0m \u001b[1m0s\u001b[0m 11ms/step - accuracy: 0.9971 - loss: 0.0696 - val_accuracy: 0.7705 - val_loss: 0.4649\n",
            "Epoch 27/50\n",
            "\u001b[1m8/8\u001b[0m \u001b[32m━━━━━━━━━━━━━━━━━━━━\u001b[0m\u001b[37m\u001b[0m \u001b[1m0s\u001b[0m 9ms/step - accuracy: 0.9887 - loss: 0.0827 - val_accuracy: 0.7705 - val_loss: 0.4640\n",
            "Epoch 28/50\n",
            "\u001b[1m8/8\u001b[0m \u001b[32m━━━━━━━━━━━━━━━━━━━━\u001b[0m\u001b[37m\u001b[0m \u001b[1m0s\u001b[0m 9ms/step - accuracy: 0.9960 - loss: 0.0598 - val_accuracy: 0.7705 - val_loss: 0.4633\n",
            "Epoch 29/50\n",
            "\u001b[1m8/8\u001b[0m \u001b[32m━━━━━━━━━━━━━━━━━━━━\u001b[0m\u001b[37m\u001b[0m \u001b[1m0s\u001b[0m 11ms/step - accuracy: 0.9926 - loss: 0.0529 - val_accuracy: 0.7705 - val_loss: 0.4626\n",
            "Epoch 30/50\n",
            "\u001b[1m8/8\u001b[0m \u001b[32m━━━━━━━━━━━━━━━━━━━━\u001b[0m\u001b[37m\u001b[0m \u001b[1m0s\u001b[0m 9ms/step - accuracy: 0.9906 - loss: 0.0419 - val_accuracy: 0.7705 - val_loss: 0.4620\n",
            "Epoch 31/50\n",
            "\u001b[1m8/8\u001b[0m \u001b[32m━━━━━━━━━━━━━━━━━━━━\u001b[0m\u001b[37m\u001b[0m \u001b[1m0s\u001b[0m 9ms/step - accuracy: 0.9888 - loss: 0.0511 - val_accuracy: 0.7705 - val_loss: 0.4614\n",
            "Epoch 32/50\n",
            "\u001b[1m8/8\u001b[0m \u001b[32m━━━━━━━━━━━━━━━━━━━━\u001b[0m\u001b[37m\u001b[0m \u001b[1m0s\u001b[0m 11ms/step - accuracy: 0.9986 - loss: 0.0328 - val_accuracy: 0.7705 - val_loss: 0.4609\n",
            "Epoch 33/50\n",
            "\u001b[1m8/8\u001b[0m \u001b[32m━━━━━━━━━━━━━━━━━━━━\u001b[0m\u001b[37m\u001b[0m \u001b[1m0s\u001b[0m 8ms/step - accuracy: 1.0000 - loss: 0.0387 - val_accuracy: 0.7705 - val_loss: 0.4604\n",
            "Epoch 34/50\n",
            "\u001b[1m8/8\u001b[0m \u001b[32m━━━━━━━━━━━━━━━━━━━━\u001b[0m\u001b[37m\u001b[0m \u001b[1m0s\u001b[0m 10ms/step - accuracy: 0.9916 - loss: 0.0393 - val_accuracy: 0.7705 - val_loss: 0.4601\n",
            "Epoch 35/50\n",
            "\u001b[1m8/8\u001b[0m \u001b[32m━━━━━━━━━━━━━━━━━━━━\u001b[0m\u001b[37m\u001b[0m \u001b[1m0s\u001b[0m 9ms/step - accuracy: 1.0000 - loss: 0.0248 - val_accuracy: 0.7705 - val_loss: 0.4598\n",
            "Epoch 36/50\n",
            "\u001b[1m8/8\u001b[0m \u001b[32m━━━━━━━━━━━━━━━━━━━━\u001b[0m\u001b[37m\u001b[0m \u001b[1m0s\u001b[0m 11ms/step - accuracy: 1.0000 - loss: 0.0402 - val_accuracy: 0.7705 - val_loss: 0.4595\n",
            "Epoch 37/50\n",
            "\u001b[1m8/8\u001b[0m \u001b[32m━━━━━━━━━━━━━━━━━━━━\u001b[0m\u001b[37m\u001b[0m \u001b[1m0s\u001b[0m 8ms/step - accuracy: 1.0000 - loss: 0.0160 - val_accuracy: 0.7705 - val_loss: 0.4592\n",
            "Epoch 38/50\n",
            "\u001b[1m8/8\u001b[0m \u001b[32m━━━━━━━━━━━━━━━━━━━━\u001b[0m\u001b[37m\u001b[0m \u001b[1m0s\u001b[0m 10ms/step - accuracy: 1.0000 - loss: 0.0256 - val_accuracy: 0.7705 - val_loss: 0.4590\n",
            "Epoch 39/50\n",
            "\u001b[1m8/8\u001b[0m \u001b[32m━━━━━━━━━━━━━━━━━━━━\u001b[0m\u001b[37m\u001b[0m \u001b[1m0s\u001b[0m 9ms/step - accuracy: 1.0000 - loss: 0.0109 - val_accuracy: 0.7705 - val_loss: 0.4589\n",
            "Epoch 40/50\n",
            "\u001b[1m8/8\u001b[0m \u001b[32m━━━━━━━━━━━━━━━━━━━━\u001b[0m\u001b[37m\u001b[0m \u001b[1m0s\u001b[0m 9ms/step - accuracy: 1.0000 - loss: 0.0239 - val_accuracy: 0.7705 - val_loss: 0.4588\n",
            "Epoch 41/50\n",
            "\u001b[1m8/8\u001b[0m \u001b[32m━━━━━━━━━━━━━━━━━━━━\u001b[0m\u001b[37m\u001b[0m \u001b[1m0s\u001b[0m 9ms/step - accuracy: 1.0000 - loss: 0.0171 - val_accuracy: 0.7705 - val_loss: 0.4587\n",
            "Epoch 42/50\n",
            "\u001b[1m8/8\u001b[0m \u001b[32m━━━━━━━━━━━━━━━━━━━━\u001b[0m\u001b[37m\u001b[0m \u001b[1m0s\u001b[0m 9ms/step - accuracy: 1.0000 - loss: 0.0242 - val_accuracy: 0.7705 - val_loss: 0.4586\n",
            "Epoch 43/50\n",
            "\u001b[1m8/8\u001b[0m \u001b[32m━━━━━━━━━━━━━━━━━━━━\u001b[0m\u001b[37m\u001b[0m \u001b[1m0s\u001b[0m 11ms/step - accuracy: 1.0000 - loss: 0.0104 - val_accuracy: 0.7705 - val_loss: 0.4585\n",
            "Epoch 44/50\n",
            "\u001b[1m8/8\u001b[0m \u001b[32m━━━━━━━━━━━━━━━━━━━━\u001b[0m\u001b[37m\u001b[0m \u001b[1m0s\u001b[0m 10ms/step - accuracy: 1.0000 - loss: 0.0093 - val_accuracy: 0.7705 - val_loss: 0.4585\n",
            "Epoch 45/50\n",
            "\u001b[1m8/8\u001b[0m \u001b[32m━━━━━━━━━━━━━━━━━━━━\u001b[0m\u001b[37m\u001b[0m \u001b[1m0s\u001b[0m 9ms/step - accuracy: 1.0000 - loss: 0.0120 - val_accuracy: 0.7705 - val_loss: 0.4585\n",
            "Epoch 46/50\n",
            "\u001b[1m8/8\u001b[0m \u001b[32m━━━━━━━━━━━━━━━━━━━━\u001b[0m\u001b[37m\u001b[0m \u001b[1m0s\u001b[0m 10ms/step - accuracy: 1.0000 - loss: 0.0224 - val_accuracy: 0.7705 - val_loss: 0.4585\n",
            "Epoch 47/50\n",
            "\u001b[1m8/8\u001b[0m \u001b[32m━━━━━━━━━━━━━━━━━━━━\u001b[0m\u001b[37m\u001b[0m \u001b[1m0s\u001b[0m 12ms/step - accuracy: 1.0000 - loss: 0.0145 - val_accuracy: 0.7705 - val_loss: 0.4585\n",
            "Epoch 48/50\n",
            "\u001b[1m8/8\u001b[0m \u001b[32m━━━━━━━━━━━━━━━━━━━━\u001b[0m\u001b[37m\u001b[0m \u001b[1m0s\u001b[0m 9ms/step - accuracy: 1.0000 - loss: 0.0051 - val_accuracy: 0.7705 - val_loss: 0.4586\n",
            "Epoch 49/50\n",
            "\u001b[1m8/8\u001b[0m \u001b[32m━━━━━━━━━━━━━━━━━━━━\u001b[0m\u001b[37m\u001b[0m \u001b[1m0s\u001b[0m 9ms/step - accuracy: 1.0000 - loss: 0.0074 - val_accuracy: 0.7705 - val_loss: 0.4586\n",
            "Epoch 50/50\n",
            "\u001b[1m8/8\u001b[0m \u001b[32m━━━━━━━━━━━━━━━━━━━━\u001b[0m\u001b[37m\u001b[0m \u001b[1m0s\u001b[0m 11ms/step - accuracy: 1.0000 - loss: 0.0101 - val_accuracy: 0.7705 - val_loss: 0.4586\n",
            "\u001b[1m10/10\u001b[0m \u001b[32m━━━━━━━━━━━━━━━━━━━━\u001b[0m\u001b[37m\u001b[0m \u001b[1m0s\u001b[0m 20ms/step\n"
          ]
        }
      ]
    },
    {
      "cell_type": "code",
      "source": [
        "# BERT\n",
        "encodings, labels = prepare_bert_data(df, label_encoding)\n",
        "bert_history, bert_report, bert_accuracy = train_evaluate_bert(encodings, labels, label_encoding)\n"
      ],
      "metadata": {
        "colab": {
          "base_uri": "https://localhost:8080/"
        },
        "id": "Pl9oCxmzY-_R",
        "outputId": "7354030b-4301-47e9-f333-5880a49bd098"
      },
      "execution_count": null,
      "outputs": [
        {
          "output_type": "stream",
          "name": "stderr",
          "text": [
            "All PyTorch model weights were used when initializing TFBertForTokenClassification.\n",
            "\n",
            "Some weights or buffers of the TF 2.0 model TFBertForTokenClassification were not initialized from the PyTorch model and are newly initialized: ['classifier.weight', 'classifier.bias']\n",
            "You should probably TRAIN this model on a down-stream task to be able to use it for predictions and inference.\n"
          ]
        },
        {
          "output_type": "stream",
          "name": "stdout",
          "text": [
            "Epoch 1/10\n",
            "1/1 [==============================] - 36s 36s/step - loss: 1.7218 - accuracy: 0.2734\n",
            "Epoch 2/10\n",
            "1/1 [==============================] - 0s 100ms/step - loss: 1.1555 - accuracy: 0.6719\n",
            "Epoch 3/10\n",
            "1/1 [==============================] - 0s 99ms/step - loss: 2.8221 - accuracy: 0.3125\n",
            "Epoch 4/10\n",
            "1/1 [==============================] - 0s 77ms/step - loss: 1.6676 - accuracy: 0.6719\n",
            "Epoch 5/10\n",
            "1/1 [==============================] - 0s 76ms/step - loss: 0.8461 - accuracy: 0.6719\n",
            "Epoch 6/10\n",
            "1/1 [==============================] - 0s 72ms/step - loss: 0.9610 - accuracy: 0.3125\n",
            "Epoch 7/10\n",
            "1/1 [==============================] - 0s 69ms/step - loss: 0.8065 - accuracy: 0.4453\n",
            "Epoch 8/10\n",
            "1/1 [==============================] - 0s 69ms/step - loss: 1.0352 - accuracy: 0.6719\n",
            "Epoch 9/10\n",
            "1/1 [==============================] - 0s 71ms/step - loss: 1.2765 - accuracy: 0.6719\n",
            "Epoch 10/10\n",
            "1/1 [==============================] - 0s 74ms/step - loss: 1.7271 - accuracy: 0.3125\n"
          ]
        },
        {
          "output_type": "stream",
          "name": "stderr",
          "text": [
            "WARNING:tensorflow:5 out of the last 5 calls to <function Model.make_predict_function.<locals>.predict_function at 0x7f78f14a97e0> triggered tf.function retracing. Tracing is expensive and the excessive number of tracings could be due to (1) creating @tf.function repeatedly in a loop, (2) passing tensors with different shapes, (3) passing Python objects instead of tensors. For (1), please define your @tf.function outside of the loop. For (2), @tf.function has reduce_retracing=True option that can avoid unnecessary retracing. For (3), please refer to https://www.tensorflow.org/guide/function#controlling_retracing and https://www.tensorflow.org/api_docs/python/tf/function for  more details.\n"
          ]
        },
        {
          "output_type": "stream",
          "name": "stdout",
          "text": [
            "1/1 [==============================] - 4s 4s/step\n"
          ]
        }
      ]
    },
    {
      "cell_type": "code",
      "source": [
        "# Visualize and comparing results\n",
        "visualize_metrics(lstm_history, bert_history)\n",
        "\n",
        "print(\"LSTM Classification Report:\")\n",
        "print(lstm_report)\n",
        "print(f\"LSTM Accuracy: {lstm_accuracy}\")\n",
        "\n",
        "print(\"\\nBERT Classification Report:\")\n",
        "print(bert_report)\n",
        "print(f\"BERT Accuracy: {bert_accuracy}\")"
      ],
      "metadata": {
        "colab": {
          "base_uri": "https://localhost:8080/",
          "height": 860
        },
        "id": "RwxdWHlscKHS",
        "outputId": "8906110f-6f10-49f0-d126-7766d6b7b688"
      },
      "execution_count": null,
      "outputs": [
        {
          "output_type": "display_data",
          "data": {
            "text/plain": [
              "<Figure size 1200x400 with 2 Axes>"
            ],
            "image/png": "[encoded data removed]"
          },
          "metadata": {}
        },
        {
          "output_type": "stream",
          "name": "stdout",
          "text": [
            "LSTM Classification Report:\n",
            "              precision    recall  f1-score   support\n",
            "\n",
            "           0       0.80      1.00      0.89        57\n",
            "           1       1.00      1.00      1.00       191\n",
            "           2       1.00      1.00      1.00        25\n",
            "           3       1.00      0.56      0.72        16\n",
            "           4       1.00      1.00      1.00         4\n",
            "           5       1.00      0.22      0.36         9\n",
            "\n",
            "    accuracy                           0.95       302\n",
            "   macro avg       0.97      0.80      0.83       302\n",
            "weighted avg       0.96      0.95      0.95       302\n",
            "\n",
            "LSTM Accuracy: 0.9536423841059603\n",
            "\n",
            "BERT Classification Report:\n",
            "              precision    recall  f1-score   support\n",
            "\n",
            "           0       0.67      1.00      0.80        86\n",
            "           1       0.00      0.00      0.00        40\n",
            "           2       0.00      0.00      0.00         2\n",
            "\n",
            "    accuracy                           0.67       128\n",
            "   macro avg       0.22      0.33      0.27       128\n",
            "weighted avg       0.45      0.67      0.54       128\n",
            "\n",
            "BERT Accuracy: 0.671875\n"
          ]
        }
      ]
    },
    {
      "cell_type": "code",
      "source": [
        "# Extracting entities from new PDF\n",
        "pdf_path = '/content/Supernovae.pdf'\n",
        "new_text = extract_text_from_pdf(pdf_path)\n",
        "\n",
        "# Extract entities using trained Bi-LSTM\n",
        "lstm_entities = extract_entities_lstm(new_text, lstm_model, lstm_tokenizer, label_encoding)\n",
        "\n",
        "print(\"\\nLSTM Extracted Entities from new PDF:\")\n",
        "for entity in lstm_entities:\n",
        "    print(f\"{entity['label']}: {entity['text']}\")\n"
      ],
      "metadata": {
        "colab": {
          "base_uri": "https://localhost:8080/"
        },
        "id": "ER7YucZWqyTI",
        "outputId": "cd24f116-497c-4b6e-938a-76c561e5d47e"
      },
      "execution_count": null,
      "outputs": [
        {
          "output_type": "stream",
          "name": "stdout",
          "text": [
            "\u001b[1m540/540\u001b[0m \u001b[32m━━━━━━━━━━━━━━━━━━━━\u001b[0m\u001b[37m\u001b[0m \u001b[1m2s\u001b[0m 4ms/step\n",
            "\n",
            "LSTM Extracted Entities from new PDF:\n",
            "SUPERNOVA_TYPE: Ia\n",
            "REDSHIFT: Alves,6\n",
            "REDSHIFT: Andrade-Oliveira,6\n",
            "SUPERNOVA_TYPE: I.\n",
            "REDSHIFT: Huterer,6\n",
            "REDSHIFT: Schubnell,6\n",
            "SUPERNOVA_TYPE: I.\n",
            "REDSHIFT: Tarle,6\n",
            "REDSHIFT: Weaverdyck,6,\n",
            "SUPERNOVA_TYPE: i\n",
            "HOST_GALAXY: 300\n",
            "SUPERNOVA_TYPE: Ia\n",
            "SUPERNOVA_TYPE: Ia)\n",
            "SUPERNOVA_TYPE: Ia,\n",
            "SUPERNOVA_TYPE: Ia\n",
            "SUPERNOVA_TYPE: Ia\n",
            "SUPERNOVA_TYPE: Ia),\n",
            "SUPERNOVA_TYPE: i,\n",
            "SUPERNOVA_TYPE: Ia\n",
            "SUPERNOVA_TYPE: Ia\n",
            "SUPERNOVA_TYPE: Ia\n",
            "SUPERNOVA_TYPE: Ia\n",
            "SUPERNOVA_TYPE: Ia\n",
            "REDSHIFT: 6.\n",
            "SUPERNOVA_TYPE: i,\n",
            "SUPERNOVA_TYPE: i,\n",
            "LUMINOSITY: mag\n",
            "LUMINOSITY: mag\n",
            "REDSHIFT: 6\n",
            "SUPERNOVA_TYPE: Ia,\n",
            "SUPERNOVA_TYPE: Ia\n",
            "SUPERNOVA_TYPE: Ia\n",
            "SUPERNOVA_TYPE: Ia.\n",
            "SUPERNOVA_TYPE: Ia\n",
            "SUPERNOVA_TYPE: µobs,i\n",
            "SUPERNOVA_TYPE: −∆µbias,i,\n",
            "SUPERNOVA_TYPE: Ia)\n",
            "SUPERNOVA_TYPE: Ia)\n",
            "REDSHIFT: 0.6\n",
            "SUPERNOVA_TYPE: Ia;\n",
            "SUPERNOVA_TYPE: i\n",
            "SUPERNOVA_TYPE: ∆µbias,i\n",
            "SUPERNOVA_TYPE: ∆µbias,i\n",
            "SUPERNOVA_TYPE: Ia\n",
            "LUMINOSITY: mag\n",
            "SUPERNOVA_TYPE: Ia\n",
            "REDSHIFT: 6\n",
            "SUPERNOVA_TYPE: Ia\n",
            "SUPERNOVA_TYPE: Ia,\n",
            "SUPERNOVA_TYPE: Ia\n",
            "SUPERNOVA_TYPE: PB(Ia)\n",
            "SUPERNOVA_TYPE: ∝1/pPB(Ia)\n",
            "LUMINOSITY: mag\n",
            "SUPERNOVA_TYPE: Ia\n",
            "SUPERNOVA_TYPE: Ia\n",
            "DISTANCE: Mpc)\n",
            "SUPERNOVA_TYPE: µobs,i\n",
            "REDSHIFT: 3.6\n",
            "REDSHIFT: 6\n",
            "SUPERNOVA_TYPE: Ia\n",
            "REDSHIFT: tensions.6\n",
            "REDSHIFT: 6,\n",
            "REDSHIFT: 6\n",
            "REDSHIFT: 6,\n",
            "SUPERNOVA_TYPE: non-SN-Ia\n",
            "REDSHIFT: 6.\n",
            "REDSHIFT: −0.6\n",
            "REDSHIFT: 6\n",
            "REDSHIFT: 6.\n",
            "REDSHIFT: 6\n",
            "SUPERNOVA_TYPE: PB(Ia)\n",
            "SUPERNOVA_TYPE: PB(Ia)\n",
            "SUPERNOVA_TYPE: I\n",
            "SUPERNOVA_TYPE: I.\n",
            "LUMINOSITY: mag)\n",
            "SUPERNOVA_TYPE: Ia\n",
            "SUPERNOVA_TYPE: Ia\n",
            "SUPERNOVA_TYPE: Ia\n",
            "REDSHIFT: 0.6\n",
            "SUPERNOVA_TYPE: Ia\n",
            "SUPERNOVA_TYPE: Ia.\n",
            "LUMINOSITY: mag,\n",
            "REDSHIFT: 6%\n",
            "REDSHIFT: −0.6\n",
            "SUPERNOVA_TYPE: Ia\n",
            "SUPERNOVA_TYPE: Ia\n",
            "SUPERNOVA_TYPE: Ia\n",
            "REDSHIFT: 6-\n",
            "SUPERNOVA_TYPE: Ia\n",
            "REDSHIFT: 6.\n",
            "SUPERNOVA_TYPE: Ia\n",
            "SUPERNOVA_TYPE: Ia\n",
            "SUPERNOVA_TYPE: Ia)\n",
            "SUPERNOVA_TYPE: Ia,\n",
            "SUPERNOVA_TYPE: Ia\n",
            "SUPERNOVA_TYPE: RYC2019-027683-I\n",
            "SUPERNOVA_TYPE: i\n",
            "SUPERNOVA_TYPE: Keck:I\n",
            "SUPERNOVA_TYPE: (i)\n",
            "SUPERNOVA_TYPE: (i)\n",
            "REDSHIFT: 0.6)\n",
            "SUPERNOVA_TYPE: bi(i\n",
            "REDSHIFT: 0.6)\n",
            "REDSHIFT: 0.6)\n",
            "SUPERNOVA_TYPE: ai(i\n",
            "SUPERNOVA_TYPE: αi(i\n",
            "REDSHIFT: (−0.6,\n",
            "REDSHIFT: −0.6\n",
            "SUPERNOVA_TYPE: I.\n",
            "SUPERNOVA_TYPE: I.,\n"
          ]
        }
      ]
    },
    {
      "cell_type": "code",
      "source": [
        "# Extract entities using fine tuned BERT\n",
        "bert_model = bert_history.model\n",
        "bert_tokenizer = BertTokenizer.from_pretrained('bert-base-uncased')\n",
        "bert_entities = extract_entities_bert(new_text, bert_model, bert_tokenizer, label_encoding)\n",
        "\n",
        "print(\"\\nBERT Extracted Entities from new PDF:\")\n",
        "for entity in bert_entities:\n",
        "    print(f\"{entity['label']}: {entity['text']}\")"
      ],
      "metadata": {
        "colab": {
          "base_uri": "https://localhost:8080/"
        },
        "id": "er18lbvurl4_",
        "outputId": "3e4e5fab-9ad8-49bb-f056-d6b1720e95e8"
      },
      "execution_count": null,
      "outputs": [
        {
          "output_type": "stream",
          "name": "stdout",
          "text": [
            "\n",
            "BERT Extracted Entities from new PDF:\n"
          ]
        }
      ]
    }
  ]
}